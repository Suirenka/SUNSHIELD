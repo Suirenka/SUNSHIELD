{
 "cells": [
  {
   "cell_type": "code",
   "execution_count": 1,
   "id": "58828915",
   "metadata": {},
   "outputs": [],
   "source": [
    "# api key = osNpUetlOzNcdtk4tHOgBjS0jlunnDXk - tomorrow.io"
   ]
  },
  {
   "cell_type": "code",
   "execution_count": 17,
   "id": "2dc637f2",
   "metadata": {},
   "outputs": [],
   "source": [
    "# geolocation api = de4b2d1909144804ac09fdfa6164aa44"
   ]
  },
  {
   "cell_type": "code",
   "execution_count": 5,
   "id": "08f2ac56",
   "metadata": {},
   "outputs": [],
   "source": [
    "# libraries\n",
    "import pandas as pd\n",
    "import os\n",
    "\n",
    "# read the postcodes csv\n",
    "# please write your local location for the dataset\n",
    "postcodes_dt = pd.read_csv(\"C:\\\\Users\\\\prasa\\\\Monash\\\\sem_4\\\\FIT5021\\\\Datasets\\\\australian_postcodes.csv\")\n",
    "\n",
    "# define a function to get the latitude and longitude of the post code\n",
    "def get_latlong(place):\n",
    "    # trys to see if there exists a place searched by the ussr\n",
    "    try:\n",
    "        # filter the dataset based on the entered location name\n",
    "        data = postcodes_dt[postcodes_dt['locality'].str.lower() == place.lower()]\n",
    "        # get the lat\n",
    "        lat = data['lat'].unique()[0]\n",
    "        # get the long\n",
    "        long = data['long'].unique()[0]\n",
    "        # return lat and long\n",
    "        return lat,long\n",
    "    except:\n",
    "        # prints when the searched place dosent exist\n",
    "        return \"place not found\"\n",
    "\n"
   ]
  },
  {
   "cell_type": "code",
   "execution_count": 6,
   "id": "8f470875",
   "metadata": {},
   "outputs": [],
   "source": [
    "# libraries\n",
    "import requests\n",
    "\n",
    "# our Tomorrow.io API key\n",
    "API_KEY = \"osNpUetlOzNcdtk4tHOgBjS0jlunnDXk\"\n",
    "\n",
    "# base URL for Tomorrow.io Weather API\n",
    "BASE_URL = \"https://api.tomorrow.io/v4/weather/realtime\"\n",
    "\n",
    "# function to get UV index\n",
    "def get_uv_index(lat, lon):\n",
    "    # details to use the API\n",
    "    params = {\n",
    "        \"location\": f\"{lat},{lon}\",\n",
    "        \"apikey\": API_KEY,\n",
    "        \"fields\": \"uvIndex\"\n",
    "    }\n",
    "    # try to fetch the UV index from the api\n",
    "    try:\n",
    "        # request is a library, it helps in accessing the api\n",
    "        response = requests.get(BASE_URL, params=params)\n",
    "        # storing the response from the api in json\n",
    "        data = response.json()\n",
    "        # if the request is valid-\n",
    "        if response.status_code == 200:\n",
    "            # we retrive the uv index and return it\n",
    "            return data['data']['values']['uvIndex']\n",
    "            #return(data)\n",
    "        # else sends out an error message\n",
    "        else:\n",
    "            return(f\"Error: {data.get('message', 'Failed to fetch data')}\")\n",
    "    # or an exception message\n",
    "    except Exception as e:\n",
    "        return(f\"An error occurred: {e}\")"
   ]
  },
  {
   "cell_type": "code",
   "execution_count": 7,
   "id": "02b49b36",
   "metadata": {},
   "outputs": [
    {
     "name": "stdout",
     "output_type": "stream",
     "text": [
      " Chose from the below localities: \n",
      "['ANU' 'Australian National University' 'DARWIN' ... 'LAW COURTS'\n",
      " 'LITTLE LONSDALE STREET' 'NORTH POLE']\n",
      "Enter chosen place: darwin\n",
      "5\n"
     ]
    }
   ],
   "source": [
    "# read the postcodes csv\n",
    "# please write your local location for the dataset\n",
    "postcodes_dt = pd.read_csv(\"C:\\\\Users\\\\prasa\\\\Monash\\\\sem_4\\\\FIT5021\\\\Datasets\\\\australian_postcodes.csv\")\n",
    "# list of places\n",
    "places = postcodes_dt['locality'].unique()\n",
    "# Manually enter place\n",
    "print(\" Chose from the below localities: \")\n",
    "print(places)\n",
    "place_input = input(\"Enter chosen place: \")\n",
    "latlong = get_latlong(place_input)\n",
    "uv = get_uv_index(latlong[0],latlong[1])\n",
    "print(uv)"
   ]
  },
  {
   "cell_type": "code",
   "execution_count": null,
   "id": "3e99ed1f",
   "metadata": {},
   "outputs": [],
   "source": []
  }
 ],
 "metadata": {
  "kernelspec": {
   "display_name": "Python 3 (ipykernel)",
   "language": "python",
   "name": "python3"
  },
  "language_info": {
   "codemirror_mode": {
    "name": "ipython",
    "version": 3
   },
   "file_extension": ".py",
   "mimetype": "text/x-python",
   "name": "python",
   "nbconvert_exporter": "python",
   "pygments_lexer": "ipython3",
   "version": "3.11.3"
  }
 },
 "nbformat": 4,
 "nbformat_minor": 5
}
