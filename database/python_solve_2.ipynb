{
 "cells": [
  {
   "cell_type": "code",
   "execution_count": 1,
   "metadata": {},
   "outputs": [],
   "source": [
    "import pandas as pd\n",
    "import matplotlib.pyplot as plt\n",
    "import plotly.express as px\n"
   ]
  },
  {
   "cell_type": "code",
   "execution_count": 2,
   "metadata": {},
   "outputs": [],
   "source": [
    "# pip install plotly\n"
   ]
  },
  {
   "cell_type": "code",
   "execution_count": 3,
   "metadata": {},
   "outputs": [],
   "source": [
    "# Step 1: Load the Excel file\n",
    "incidence_age_group_file_path = \"CDiA-2024-Book-1a-Cancer-incidence-age-standardised-rates-5-year-age-groups.xlsx\"  # Replace with your actual file path\n",
    "incidence_age_group_sheet_name = \"Table S1a.1\"  # Change this to the correct sheet name\n",
    "\n",
    "mortality_age_group_file_path = \"CDiA-2024-Book-2a-Cancer-mortality-and-age-standardised-rates-by-age-5-year-groups.xlsx\" \n",
    "mortality_age_group_sheet_name = \"Table S2a.1\"\n",
    "\n",
    "incidence_and_mortality_file_path = \"CDiA-2024-Book-7-Cancer-incidence-and-mortality-by-state-and-territory.xlsx\"  # Replace with your actual file path\n",
    "incidence_and_mortality_sheet_1 = \"Table S7.1\"  # Change this to the correct sheet name\n",
    "incidence_and_mortality_sheet_2 = \"Table S7.2\"\n",
    "filter_values = ['Melanoma of the skin', 'Non-melanoma skin cancer (rare types)']\n"
   ]
  },
  {
   "cell_type": "code",
   "execution_count": 4,
   "metadata": {},
   "outputs": [],
   "source": [
    "def process_excel(file_path, chosen_sheet_name, filter_values):\n",
    "    xls = pd.ExcelFile(file_path)\n",
    "    print(f\"Available Sheets for {file_path}: \\n\", xls.sheet_names)\n",
    "\n",
    "    df_cleaned = pd.read_excel(file_path, sheet_name=chosen_sheet_name, skiprows=5, engine=\"openpyxl\") \n",
    "    # Drop fully empty columns\n",
    "    df_cleaned = df_cleaned.dropna(axis=1, how=\"all\")\n",
    "\n",
    "    # Drop fully empty rows\n",
    "    df_cleaned = df_cleaned.dropna(how=\"all\")\n",
    "\n",
    "    # Reset index (optional, if many rows are removed)\n",
    "    df_cleaned.reset_index(drop=True, inplace=True)\n",
    "    df_cleaned = df_cleaned[df_cleaned['Cancer group/site'].isin(filter_values)]\n",
    "    return df_cleaned\n",
    "\n",
    "def cast_columns(df, dtype_dict):\n",
    "    \"\"\"\n",
    "    Casts columns of a DataFrame based on a given dictionary of column names and their target data types.\n",
    "\n",
    "    Parameters:\n",
    "    df (pd.DataFrame): The input DataFrame.\n",
    "    dtype_dict (dict): A dictionary where keys are column names and values are target data types.\n",
    "\n",
    "    Returns:\n",
    "    pd.DataFrame: A DataFrame with the updated data types.\n",
    "    \"\"\"\n",
    "    df = df.copy()  # Work on a copy to avoid modifying the original DataFrame\n",
    "\n",
    "    for col, dtype in dtype_dict.items():\n",
    "        if col in df.columns:\n",
    "            try:\n",
    "                df[col] = df[col].astype(dtype)\n",
    "            except ValueError:\n",
    "                print(f\"Warning: Could not convert column '{col}' to {dtype}. Handling non-convertible values...\")\n",
    "                df[col] = pd.to_numeric(df[col], errors='coerce') if \"int\" in dtype or \"float\" in dtype else df[col].astype(str)\n",
    "\n",
    "    return df\n",
    "\n"
   ]
  },
  {
   "cell_type": "code",
   "execution_count": 5,
   "metadata": {},
   "outputs": [
    {
     "name": "stdout",
     "output_type": "stream",
     "text": [
      "Available Sheets for CDiA-2024-Book-1a-Cancer-incidence-age-standardised-rates-5-year-age-groups.xlsx: \n",
      " ['Welcome', 'Table S1a.1']\n",
      "Available Sheets for CDiA-2024-Book-2a-Cancer-mortality-and-age-standardised-rates-by-age-5-year-groups.xlsx: \n",
      " ['Welcome', 'Table S2a.1']\n",
      "Available Sheets for CDiA-2024-Book-7-Cancer-incidence-and-mortality-by-state-and-territory.xlsx: \n",
      " ['Welcome', 'Table S7.1', 'Table S7.2']\n",
      "Available Sheets for CDiA-2024-Book-7-Cancer-incidence-and-mortality-by-state-and-territory.xlsx: \n",
      " ['Welcome', 'Table S7.1', 'Table S7.2']\n"
     ]
    }
   ],
   "source": [
    "df_incidence_age_group = process_excel(incidence_age_group_file_path, incidence_age_group_sheet_name, filter_values)\n",
    "df_mortality_age_group = process_excel(mortality_age_group_file_path, mortality_age_group_sheet_name, filter_values)\n",
    "\n",
    "df_incidence_and_mortality_1 = process_excel(incidence_and_mortality_file_path, incidence_and_mortality_sheet_1, filter_values)\n",
    "df_incidence_and_mortality_2 = process_excel(incidence_and_mortality_file_path, incidence_and_mortality_sheet_2, filter_values)"
   ]
  },
  {
   "cell_type": "code",
   "execution_count": 6,
   "metadata": {},
   "outputs": [
    {
     "data": {
      "text/html": [
       "<div>\n",
       "<style scoped>\n",
       "    .dataframe tbody tr th:only-of-type {\n",
       "        vertical-align: middle;\n",
       "    }\n",
       "\n",
       "    .dataframe tbody tr th {\n",
       "        vertical-align: top;\n",
       "    }\n",
       "\n",
       "    .dataframe thead th {\n",
       "        text-align: right;\n",
       "    }\n",
       "</style>\n",
       "<table border=\"1\" class=\"dataframe\">\n",
       "  <thead>\n",
       "    <tr style=\"text-align: right;\">\n",
       "      <th></th>\n",
       "      <th>Data type</th>\n",
       "      <th>Cancer group/site</th>\n",
       "      <th>Year</th>\n",
       "      <th>Sex</th>\n",
       "      <th>State or Territory</th>\n",
       "      <th>Count</th>\n",
       "      <th>Crude rate\\n(per 100,000)</th>\n",
       "      <th>Age-standardised rate\\n2001 Australian Standard Population \\n(per 100,000)</th>\n",
       "      <th>Age-standardised rate\\n2024 Australian population \\n(per 100,000)</th>\n",
       "      <th>Unnamed: 9</th>\n",
       "      <th>ICD10 codes</th>\n",
       "    </tr>\n",
       "  </thead>\n",
       "  <tbody>\n",
       "    <tr>\n",
       "      <th>38592</th>\n",
       "      <td>Incidence</td>\n",
       "      <td>Melanoma of the skin</td>\n",
       "      <td>1982.0</td>\n",
       "      <td>Males</td>\n",
       "      <td>New South Wales</td>\n",
       "      <td>650</td>\n",
       "      <td>24.6</td>\n",
       "      <td>28.9</td>\n",
       "      <td>33</td>\n",
       "      <td></td>\n",
       "      <td>C43</td>\n",
       "    </tr>\n",
       "    <tr>\n",
       "      <th>38593</th>\n",
       "      <td>Incidence</td>\n",
       "      <td>Melanoma of the skin</td>\n",
       "      <td>1982.0</td>\n",
       "      <td>Males</td>\n",
       "      <td>Victoria</td>\n",
       "      <td>279</td>\n",
       "      <td>14.1</td>\n",
       "      <td>16.8</td>\n",
       "      <td>19.1</td>\n",
       "      <td></td>\n",
       "      <td>C43</td>\n",
       "    </tr>\n",
       "    <tr>\n",
       "      <th>38594</th>\n",
       "      <td>Incidence</td>\n",
       "      <td>Melanoma of the skin</td>\n",
       "      <td>1982.0</td>\n",
       "      <td>Males</td>\n",
       "      <td>Queensland</td>\n",
       "      <td>474</td>\n",
       "      <td>38.9</td>\n",
       "      <td>49.5</td>\n",
       "      <td>56.8</td>\n",
       "      <td></td>\n",
       "      <td>C43</td>\n",
       "    </tr>\n",
       "  </tbody>\n",
       "</table>\n",
       "</div>"
      ],
      "text/plain": [
       "       Data type     Cancer group/site    Year    Sex State or Territory  \\\n",
       "38592  Incidence  Melanoma of the skin  1982.0  Males    New South Wales   \n",
       "38593  Incidence  Melanoma of the skin  1982.0  Males           Victoria   \n",
       "38594  Incidence  Melanoma of the skin  1982.0  Males         Queensland   \n",
       "\n",
       "      Count Crude rate\\n(per 100,000)  \\\n",
       "38592   650                      24.6   \n",
       "38593   279                      14.1   \n",
       "38594   474                      38.9   \n",
       "\n",
       "      Age-standardised rate\\n2001 Australian Standard Population \\n(per 100,000)  \\\n",
       "38592                                               28.9                           \n",
       "38593                                               16.8                           \n",
       "38594                                               49.5                           \n",
       "\n",
       "      Age-standardised rate\\n2024 Australian population \\n(per 100,000)  \\\n",
       "38592                                                 33                  \n",
       "38593                                               19.1                  \n",
       "38594                                               56.8                  \n",
       "\n",
       "      Unnamed: 9 ICD10 codes  \n",
       "38592                    C43  \n",
       "38593                    C43  \n",
       "38594                    C43  "
      ]
     },
     "execution_count": 6,
     "metadata": {},
     "output_type": "execute_result"
    }
   ],
   "source": [
    "df_incidence_and_mortality_1.head(3)\n"
   ]
  },
  {
   "cell_type": "code",
   "execution_count": 7,
   "metadata": {},
   "outputs": [
    {
     "name": "stdout",
     "output_type": "stream",
     "text": [
      "Warning: Could not convert column 'Count' to Int64. Handling non-convertible values...\n"
     ]
    }
   ],
   "source": [
    "# Apply function to your DataFrame\n",
    "# df_incidence_and_mortality_1 = cast_columns(df_incidence_and_mortality_1, dtype_mapping)\n",
    "df_list = [\n",
    "    df_incidence_age_group, \n",
    "    df_mortality_age_group, \n",
    "    df_incidence_and_mortality_1, \n",
    "    df_incidence_and_mortality_2\n",
    "]\n",
    "# Example dictionary mapping columns to data types\n",
    "dtype_mapping = {\n",
    "    'Year': 'Int64',\n",
    "    'Count': 'Int64',\n",
    "    'Cancer group/site': 'string',\n",
    "    'Sex': 'category',\n",
    "    'State or Territory': 'string'\n",
    "}\n",
    "\n",
    "for i in range(len(df_list)):\n",
    "    df_list[i] = cast_columns(df_list[i], dtype_mapping)\n"
   ]
  },
  {
   "cell_type": "code",
   "execution_count": 8,
   "metadata": {},
   "outputs": [
    {
     "data": {
      "text/html": [
       "<div>\n",
       "<style scoped>\n",
       "    .dataframe tbody tr th:only-of-type {\n",
       "        vertical-align: middle;\n",
       "    }\n",
       "\n",
       "    .dataframe tbody tr th {\n",
       "        vertical-align: top;\n",
       "    }\n",
       "\n",
       "    .dataframe thead th {\n",
       "        text-align: right;\n",
       "    }\n",
       "</style>\n",
       "<table border=\"1\" class=\"dataframe\">\n",
       "  <thead>\n",
       "    <tr style=\"text-align: right;\">\n",
       "      <th></th>\n",
       "      <th>Data type</th>\n",
       "      <th>Cancer group/site</th>\n",
       "      <th>Year</th>\n",
       "      <th>Sex</th>\n",
       "      <th>State or Territory</th>\n",
       "      <th>Count</th>\n",
       "      <th>Crude rate\\n(per 100,000)</th>\n",
       "      <th>Age-standardised rate\\n2001 Australian Standard Population \\n(per 100,000)</th>\n",
       "      <th>Age-standardised rate\\n2024 Australian population \\n(per 100,000)</th>\n",
       "      <th>Unnamed: 9</th>\n",
       "      <th>ICD10 codes</th>\n",
       "    </tr>\n",
       "  </thead>\n",
       "  <tbody>\n",
       "    <tr>\n",
       "      <th>38592</th>\n",
       "      <td>Incidence</td>\n",
       "      <td>Melanoma of the skin</td>\n",
       "      <td>1982.0</td>\n",
       "      <td>Males</td>\n",
       "      <td>New South Wales</td>\n",
       "      <td>650</td>\n",
       "      <td>24.6</td>\n",
       "      <td>28.9</td>\n",
       "      <td>33</td>\n",
       "      <td></td>\n",
       "      <td>C43</td>\n",
       "    </tr>\n",
       "    <tr>\n",
       "      <th>38593</th>\n",
       "      <td>Incidence</td>\n",
       "      <td>Melanoma of the skin</td>\n",
       "      <td>1982.0</td>\n",
       "      <td>Males</td>\n",
       "      <td>Victoria</td>\n",
       "      <td>279</td>\n",
       "      <td>14.1</td>\n",
       "      <td>16.8</td>\n",
       "      <td>19.1</td>\n",
       "      <td></td>\n",
       "      <td>C43</td>\n",
       "    </tr>\n",
       "    <tr>\n",
       "      <th>38594</th>\n",
       "      <td>Incidence</td>\n",
       "      <td>Melanoma of the skin</td>\n",
       "      <td>1982.0</td>\n",
       "      <td>Males</td>\n",
       "      <td>Queensland</td>\n",
       "      <td>474</td>\n",
       "      <td>38.9</td>\n",
       "      <td>49.5</td>\n",
       "      <td>56.8</td>\n",
       "      <td></td>\n",
       "      <td>C43</td>\n",
       "    </tr>\n",
       "  </tbody>\n",
       "</table>\n",
       "</div>"
      ],
      "text/plain": [
       "       Data type     Cancer group/site    Year    Sex State or Territory  \\\n",
       "38592  Incidence  Melanoma of the skin  1982.0  Males    New South Wales   \n",
       "38593  Incidence  Melanoma of the skin  1982.0  Males           Victoria   \n",
       "38594  Incidence  Melanoma of the skin  1982.0  Males         Queensland   \n",
       "\n",
       "      Count Crude rate\\n(per 100,000)  \\\n",
       "38592   650                      24.6   \n",
       "38593   279                      14.1   \n",
       "38594   474                      38.9   \n",
       "\n",
       "      Age-standardised rate\\n2001 Australian Standard Population \\n(per 100,000)  \\\n",
       "38592                                               28.9                           \n",
       "38593                                               16.8                           \n",
       "38594                                               49.5                           \n",
       "\n",
       "      Age-standardised rate\\n2024 Australian population \\n(per 100,000)  \\\n",
       "38592                                                 33                  \n",
       "38593                                               19.1                  \n",
       "38594                                               56.8                  \n",
       "\n",
       "      Unnamed: 9 ICD10 codes  \n",
       "38592                    C43  \n",
       "38593                    C43  \n",
       "38594                    C43  "
      ]
     },
     "execution_count": 8,
     "metadata": {},
     "output_type": "execute_result"
    }
   ],
   "source": [
    "df_incidence_and_mortality_1.head(3)\n"
   ]
  },
  {
   "cell_type": "code",
   "execution_count": 9,
   "metadata": {},
   "outputs": [
    {
     "name": "stdout",
     "output_type": "stream",
     "text": [
      "<class 'pandas.core.frame.DataFrame'>\n",
      "Index: 1593 entries, 38592 to 47960\n",
      "Data columns (total 11 columns):\n",
      " #   Column                                                                    Non-Null Count  Dtype  \n",
      "---  ------                                                                    --------------  -----  \n",
      " 0   Data type                                                                 1593 non-null   object \n",
      " 1   Cancer group/site                                                         1593 non-null   object \n",
      " 2   Year                                                                      1593 non-null   float64\n",
      " 3   Sex                                                                       1593 non-null   object \n",
      " 4   State or Territory                                                        1593 non-null   object \n",
      " 5   Count                                                                     1593 non-null   object \n",
      " 6   Crude rate\n",
      "(per 100,000)                                                  1593 non-null   object \n",
      " 7   Age-standardised rate\n",
      "2001 Australian Standard Population \n",
      "(per 100,000)  1593 non-null   object \n",
      " 8   Age-standardised rate\n",
      "2024 Australian population \n",
      "(per 100,000)           1593 non-null   object \n",
      " 9   Unnamed: 9                                                                1593 non-null   object \n",
      " 10  ICD10 codes                                                               1593 non-null   object \n",
      "dtypes: float64(1), object(10)\n",
      "memory usage: 149.3+ KB\n"
     ]
    }
   ],
   "source": [
    "df_incidence_and_mortality_1.info()"
   ]
  },
  {
   "cell_type": "code",
   "execution_count": 10,
   "metadata": {},
   "outputs": [],
   "source": [
    "def clean_and_rename_columns(df):\n",
    "    \"\"\"\n",
    "    Cleans specific columns by replacing 'n.a.' and 'n.p.' with 0 and renames them.\n",
    "\n",
    "    Parameters:\n",
    "    df (pd.DataFrame): The input DataFrame.\n",
    "\n",
    "    Returns:\n",
    "    pd.DataFrame: A DataFrame with cleaned and renamed columns.\n",
    "    \"\"\"\n",
    "    # Define the column mappings\n",
    "    column_mapping = {\n",
    "        'Count': 'new_count',\n",
    "        'Crude rate\\n(per 100,000)': 'crude rate per 100k',\n",
    "        'Age-standardised rate\\n2001 Australian Standard Population \\n(per 100,000)': 'age-standardised 2001',\n",
    "        'Age-standardised rate\\n2024 Australian population \\n(per 100,000)': 'age-standardised 2024'\n",
    "    }\n",
    "\n",
    "    # Ensure only the required columns are processed\n",
    "    df = df.copy()\n",
    "\n",
    "    for old_col, new_col in column_mapping.items():\n",
    "        if old_col in df.columns:\n",
    "            # Replace 'n.a.' and 'n.p.' with 0\n",
    "            df[old_col] = df[old_col].replace(['n.a.', 'n.p.'], 0)\n",
    "            # Convert column to numeric (to handle cases where values are strings)\n",
    "            df[old_col] = pd.to_numeric(df[old_col], errors='coerce').fillna(0)\n",
    "\n",
    "    # Rename columns\n",
    "    df = df.rename(columns=column_mapping)\n",
    "\n",
    "    return df\n",
    "\n",
    "# Apply the function to your DataFram\n",
    "df_incidence_and_mortality_1 = clean_and_rename_columns(df_incidence_and_mortality_1)\n",
    "df_incidence_and_mortality_2 = clean_and_rename_columns(df_incidence_and_mortality_2)\n",
    "df_incidence_age_group = clean_and_rename_columns(df_incidence_age_group)\n",
    "df_mortality_age_group = clean_and_rename_columns(df_mortality_age_group)\n",
    "\n"
   ]
  },
  {
   "cell_type": "code",
   "execution_count": 11,
   "metadata": {},
   "outputs": [
    {
     "data": {
      "text/html": [
       "<div>\n",
       "<style scoped>\n",
       "    .dataframe tbody tr th:only-of-type {\n",
       "        vertical-align: middle;\n",
       "    }\n",
       "\n",
       "    .dataframe tbody tr th {\n",
       "        vertical-align: top;\n",
       "    }\n",
       "\n",
       "    .dataframe thead th {\n",
       "        text-align: right;\n",
       "    }\n",
       "</style>\n",
       "<table border=\"1\" class=\"dataframe\">\n",
       "  <thead>\n",
       "    <tr style=\"text-align: right;\">\n",
       "      <th></th>\n",
       "      <th>Data type</th>\n",
       "      <th>Cancer group/site</th>\n",
       "      <th>Year</th>\n",
       "      <th>Sex</th>\n",
       "      <th>State or Territory</th>\n",
       "      <th>new_count</th>\n",
       "      <th>crude rate per 100k</th>\n",
       "      <th>age-standardised 2001</th>\n",
       "      <th>age-standardised 2024</th>\n",
       "      <th>Unnamed: 9</th>\n",
       "      <th>ICD10 codes</th>\n",
       "    </tr>\n",
       "  </thead>\n",
       "  <tbody>\n",
       "    <tr>\n",
       "      <th>38592</th>\n",
       "      <td>Incidence</td>\n",
       "      <td>Melanoma of the skin</td>\n",
       "      <td>1982.0</td>\n",
       "      <td>Males</td>\n",
       "      <td>New South Wales</td>\n",
       "      <td>650</td>\n",
       "      <td>24.6</td>\n",
       "      <td>28.9</td>\n",
       "      <td>33.0</td>\n",
       "      <td></td>\n",
       "      <td>C43</td>\n",
       "    </tr>\n",
       "    <tr>\n",
       "      <th>38593</th>\n",
       "      <td>Incidence</td>\n",
       "      <td>Melanoma of the skin</td>\n",
       "      <td>1982.0</td>\n",
       "      <td>Males</td>\n",
       "      <td>Victoria</td>\n",
       "      <td>279</td>\n",
       "      <td>14.1</td>\n",
       "      <td>16.8</td>\n",
       "      <td>19.1</td>\n",
       "      <td></td>\n",
       "      <td>C43</td>\n",
       "    </tr>\n",
       "    <tr>\n",
       "      <th>38594</th>\n",
       "      <td>Incidence</td>\n",
       "      <td>Melanoma of the skin</td>\n",
       "      <td>1982.0</td>\n",
       "      <td>Males</td>\n",
       "      <td>Queensland</td>\n",
       "      <td>474</td>\n",
       "      <td>38.9</td>\n",
       "      <td>49.5</td>\n",
       "      <td>56.8</td>\n",
       "      <td></td>\n",
       "      <td>C43</td>\n",
       "    </tr>\n",
       "    <tr>\n",
       "      <th>38595</th>\n",
       "      <td>Incidence</td>\n",
       "      <td>Melanoma of the skin</td>\n",
       "      <td>1982.0</td>\n",
       "      <td>Males</td>\n",
       "      <td>Western Australia</td>\n",
       "      <td>164</td>\n",
       "      <td>24.2</td>\n",
       "      <td>31.1</td>\n",
       "      <td>35.4</td>\n",
       "      <td></td>\n",
       "      <td>C43</td>\n",
       "    </tr>\n",
       "    <tr>\n",
       "      <th>38596</th>\n",
       "      <td>Incidence</td>\n",
       "      <td>Melanoma of the skin</td>\n",
       "      <td>1982.0</td>\n",
       "      <td>Males</td>\n",
       "      <td>South Australia</td>\n",
       "      <td>121</td>\n",
       "      <td>18.3</td>\n",
       "      <td>21.4</td>\n",
       "      <td>23.0</td>\n",
       "      <td></td>\n",
       "      <td>C43</td>\n",
       "    </tr>\n",
       "  </tbody>\n",
       "</table>\n",
       "</div>"
      ],
      "text/plain": [
       "       Data type     Cancer group/site    Year    Sex State or Territory  \\\n",
       "38592  Incidence  Melanoma of the skin  1982.0  Males    New South Wales   \n",
       "38593  Incidence  Melanoma of the skin  1982.0  Males           Victoria   \n",
       "38594  Incidence  Melanoma of the skin  1982.0  Males         Queensland   \n",
       "38595  Incidence  Melanoma of the skin  1982.0  Males  Western Australia   \n",
       "38596  Incidence  Melanoma of the skin  1982.0  Males    South Australia   \n",
       "\n",
       "       new_count  crude rate per 100k  age-standardised 2001  \\\n",
       "38592        650                 24.6                   28.9   \n",
       "38593        279                 14.1                   16.8   \n",
       "38594        474                 38.9                   49.5   \n",
       "38595        164                 24.2                   31.1   \n",
       "38596        121                 18.3                   21.4   \n",
       "\n",
       "       age-standardised 2024 Unnamed: 9 ICD10 codes  \n",
       "38592                   33.0                    C43  \n",
       "38593                   19.1                    C43  \n",
       "38594                   56.8                    C43  \n",
       "38595                   35.4                    C43  \n",
       "38596                   23.0                    C43  "
      ]
     },
     "execution_count": 11,
     "metadata": {},
     "output_type": "execute_result"
    }
   ],
   "source": [
    "# Check the result\n",
    "df_incidence_and_mortality_1.head()"
   ]
  },
  {
   "cell_type": "code",
   "execution_count": 12,
   "metadata": {},
   "outputs": [
    {
     "data": {
      "text/html": [
       "<div>\n",
       "<style scoped>\n",
       "    .dataframe tbody tr th:only-of-type {\n",
       "        vertical-align: middle;\n",
       "    }\n",
       "\n",
       "    .dataframe tbody tr th {\n",
       "        vertical-align: top;\n",
       "    }\n",
       "\n",
       "    .dataframe thead th {\n",
       "        text-align: right;\n",
       "    }\n",
       "</style>\n",
       "<table border=\"1\" class=\"dataframe\">\n",
       "  <thead>\n",
       "    <tr style=\"text-align: right;\">\n",
       "      <th></th>\n",
       "      <th>Year</th>\n",
       "      <th>new_count</th>\n",
       "      <th>crude rate per 100k</th>\n",
       "      <th>age-standardised 2001</th>\n",
       "      <th>age-standardised 2024</th>\n",
       "    </tr>\n",
       "  </thead>\n",
       "  <tbody>\n",
       "    <tr>\n",
       "      <th>count</th>\n",
       "      <td>1593.000000</td>\n",
       "      <td>1593.00000</td>\n",
       "      <td>1593.000000</td>\n",
       "      <td>1593.000000</td>\n",
       "      <td>1593.000000</td>\n",
       "    </tr>\n",
       "    <tr>\n",
       "      <th>mean</th>\n",
       "      <td>2004.220339</td>\n",
       "      <td>945.94978</td>\n",
       "      <td>27.970056</td>\n",
       "      <td>28.544444</td>\n",
       "      <td>33.371563</td>\n",
       "    </tr>\n",
       "    <tr>\n",
       "      <th>std</th>\n",
       "      <td>10.737552</td>\n",
       "      <td>1897.20391</td>\n",
       "      <td>22.733963</td>\n",
       "      <td>22.342066</td>\n",
       "      <td>26.356234</td>\n",
       "    </tr>\n",
       "    <tr>\n",
       "      <th>min</th>\n",
       "      <td>1982.000000</td>\n",
       "      <td>0.00000</td>\n",
       "      <td>0.000000</td>\n",
       "      <td>0.000000</td>\n",
       "      <td>0.000000</td>\n",
       "    </tr>\n",
       "    <tr>\n",
       "      <th>25%</th>\n",
       "      <td>1996.000000</td>\n",
       "      <td>41.00000</td>\n",
       "      <td>3.700000</td>\n",
       "      <td>3.300000</td>\n",
       "      <td>4.500000</td>\n",
       "    </tr>\n",
       "    <tr>\n",
       "      <th>50%</th>\n",
       "      <td>2006.000000</td>\n",
       "      <td>213.00000</td>\n",
       "      <td>28.800000</td>\n",
       "      <td>32.600000</td>\n",
       "      <td>36.700000</td>\n",
       "    </tr>\n",
       "    <tr>\n",
       "      <th>75%</th>\n",
       "      <td>2013.000000</td>\n",
       "      <td>945.00000</td>\n",
       "      <td>44.400000</td>\n",
       "      <td>44.600000</td>\n",
       "      <td>52.100000</td>\n",
       "    </tr>\n",
       "    <tr>\n",
       "      <th>max</th>\n",
       "      <td>2020.000000</td>\n",
       "      <td>15626.00000</td>\n",
       "      <td>103.200000</td>\n",
       "      <td>94.100000</td>\n",
       "      <td>113.700000</td>\n",
       "    </tr>\n",
       "  </tbody>\n",
       "</table>\n",
       "</div>"
      ],
      "text/plain": [
       "              Year    new_count  crude rate per 100k  age-standardised 2001  \\\n",
       "count  1593.000000   1593.00000          1593.000000            1593.000000   \n",
       "mean   2004.220339    945.94978            27.970056              28.544444   \n",
       "std      10.737552   1897.20391            22.733963              22.342066   \n",
       "min    1982.000000      0.00000             0.000000               0.000000   \n",
       "25%    1996.000000     41.00000             3.700000               3.300000   \n",
       "50%    2006.000000    213.00000            28.800000              32.600000   \n",
       "75%    2013.000000    945.00000            44.400000              44.600000   \n",
       "max    2020.000000  15626.00000           103.200000              94.100000   \n",
       "\n",
       "       age-standardised 2024  \n",
       "count            1593.000000  \n",
       "mean               33.371563  \n",
       "std                26.356234  \n",
       "min                 0.000000  \n",
       "25%                 4.500000  \n",
       "50%                36.700000  \n",
       "75%                52.100000  \n",
       "max               113.700000  "
      ]
     },
     "execution_count": 12,
     "metadata": {},
     "output_type": "execute_result"
    }
   ],
   "source": [
    "df_incidence_and_mortality_1.describe()"
   ]
  },
  {
   "cell_type": "code",
   "execution_count": 13,
   "metadata": {},
   "outputs": [
    {
     "data": {
      "image/png": "[encoded data removed]",
      "text/plain": [
       "<Figure size 1000x600 with 1 Axes>"
      ]
     },
     "metadata": {},
     "output_type": "display_data"
    }
   ],
   "source": [
    "def plot_cancer_cases_by_year(df_incidence_and_mortality_1, category):\n",
    "    \"\"\"\n",
    "    Plots the total skin cancer incidences over the years using 'new_count'.\n",
    "\n",
    "    Parameters:\n",
    "    df_incidence_and_mortality_1 (pd.DataFrame): DataFrame containing 'Year' and 'new_count' columns.\n",
    "\n",
    "    Returns:\n",
    "    None\n",
    "    \"\"\"\n",
    "    # Ensure the required columns exist in the DataFrame\n",
    "    required_columns = {'Year', 'new_count'}\n",
    "    if not required_columns.issubset(df_incidence_and_mortality_1.columns):\n",
    "        raise ValueError(f\"DataFrame must contain the following columns: {required_columns}\")\n",
    "\n",
    "    # Aggregate data by summing 'new_count' for each year\n",
    "    df_grouped = df_incidence_and_mortality_1.groupby('Year', as_index=False)['new_count'].sum()\n",
    "\n",
    "    # Plot the bar chart\n",
    "    plt.figure(figsize=(10, 6))\n",
    "    plt.bar(df_grouped['Year'], df_grouped['new_count'], color='darkblue')\n",
    "\n",
    "    # Title and labels\n",
    "    plt.title(f'Total Skin Cancer {category} Through Years in Aus')\n",
    "    plt.xlabel('Year')\n",
    "    plt.ylabel('Total Cases')\n",
    "    plt.xticks(rotation=45)  # Rotate x-axis labels for readability\n",
    "    plt.grid(axis='y', linestyle='--', alpha=0.7)\n",
    "\n",
    "    # Show the plot\n",
    "    plt.show()\n",
    "\n",
    "# Call the function with the updated dataset\n",
    "plot_cancer_cases_by_year(df_incidence_and_mortality_1, 'Incidences')\n"
   ]
  },
  {
   "cell_type": "code",
   "execution_count": 14,
   "metadata": {},
   "outputs": [],
   "source": [
    "def plot_cancer_cases_by_state(df_incidence_and_mortality_1, except_value, is_filtered, group_value_list, category):\n",
    "    \"\"\"\n",
    "    Plots line charts showing total skin cancer incidences over the years for each State or Territory.\n",
    "\n",
    "    Parameters:\n",
    "    df_incidence_and_mortality_1 (pd.DataFrame): DataFrame containing 'Year', 'new_count', and 'State or Territory' columns.\n",
    "\n",
    "    Returns:\n",
    "    None\n",
    "    \"\"\"\n",
    "    # Ensure the required columns exist in the DataFrame\n",
    "#     required_columns = {'Year', 'new_count', 'State or Territory'}\n",
    "#     if not required_columns.issubset(df_incidence_and_mortality_1.columns):\n",
    "#         raise ValueError(f\"DataFrame must contain the following columns: {required_columns}\")\n",
    "    \n",
    "    #\n",
    "    if is_filtered is True:\n",
    "        df_incidence_and_mortality_1 = df_incidence_and_mortality_1[~df_incidence_and_mortality_1[group_value_list[1]].isin([except_value])]\n",
    "        \n",
    "    # Aggregate data by summing 'new_count' for each Year and State/Territory\n",
    "    df_grouped = df_incidence_and_mortality_1.groupby(group_value_list, as_index=False)['new_count'].sum()\n",
    "\n",
    "    # Create the plot\n",
    "    plt.figure(figsize=(12, 7))\n",
    "\n",
    "    # Plot each state as a separate series\n",
    "    for state in df_grouped[group_value_list[1]].unique():\n",
    "        state_data = df_grouped[df_grouped[group_value_list[1]] == state]\n",
    "        plt.plot(state_data['Year'], state_data['new_count'], label=state, marker='o', linestyle='-')\n",
    "\n",
    "    # Title anfd labels\n",
    "    plt.title(f'Total Skin Cancer {category} Over Years by State')\n",
    "    plt.xlabel('Year')\n",
    "    plt.ylabel('Total Cases')\n",
    "    plt.xticks(rotation=45)  # Rotate x-axis labels for readability\n",
    "    plt.grid(True, linestyle='--', alpha=0.7)\n",
    "\n",
    "    # Show legend for states\n",
    "    plt.legend(title=group_value_list[1], bbox_to_anchor=(1.05, 1), loc='upper left')\n",
    "\n",
    "    # Show the plot\n",
    "    plt.show()\n",
    "\n",
    "\n"
   ]
  },
  {
   "cell_type": "code",
   "execution_count": 15,
   "metadata": {},
   "outputs": [
    {
     "data": {
      "image/png": "[encoded data removed]",
      "text/plain": [
       "<Figure size 1200x700 with 1 Axes>"
      ]
     },
     "metadata": {},
     "output_type": "display_data"
    }
   ],
   "source": [
    "# Call the function with the updated dataset\n",
    "plot_cancer_cases_by_state(df_incidence_and_mortality_1, 'Australia', True, ['Year', 'State or Territory'], 'Incidences')"
   ]
  },
  {
   "cell_type": "code",
   "execution_count": 16,
   "metadata": {},
   "outputs": [
    {
     "data": {
      "image/png": "[encoded data removed]",
      "text/plain": [
       "<Figure size 1200x700 with 1 Axes>"
      ]
     },
     "metadata": {},
     "output_type": "display_data"
    }
   ],
   "source": [
    "plot_cancer_cases_by_state(df_incidence_age_group, 'All ages combined', True, ['Year', 'Age group (years)'], 'Incidences')"
   ]
  },
  {
   "cell_type": "code",
   "execution_count": 21,
   "metadata": {},
   "outputs": [
    {
     "data": {
      "application/vnd.plotly.v1+json": {
       "config": {
        "plotlyServerURL": "https://plot.ly"
       },
       "data": [
        {
         "hovertemplate": "State or Territory=Australian Capital Territory<br>Year=%{x}<br>Total Cases=%{y}<extra></extra>",
         "legendgroup": "Australian Capital Territory",
         "line": {
          "color": "#636efa",
          "dash": "solid"
         },
         "marker": {
          "symbol": "circle"
         },
         "mode": "lines+markers",
         "name": "Australian Capital Territory",
         "orientation": "v",
         "showlegend": true,
         "type": "scatter",
         "x": [
          1982,
          1983,
          1984,
          1985,
          1986,
          1987,
          1988,
          1989,
          1990,
          1991,
          1992,
          1993,
          1994,
          1995,
          1996,
          1997,
          1998,
          1999,
          2000,
          2001,
          2002,
          2003,
          2004,
          2005,
          2006,
          2007,
          2008,
          2009,
          2010,
          2011,
          2012,
          2013,
          2014,
          2015,
          2016,
          2017,
          2018,
          2019,
          2020
         ],
         "xaxis": "x",
         "y": [
          0,
          0,
          0,
          0,
          114,
          138,
          151,
          158,
          160,
          159,
          152,
          148,
          148,
          162,
          167,
          186,
          195,
          213,
          209,
          218,
          216,
          218,
          226,
          277,
          283,
          276,
          289,
          279,
          260,
          260,
          279,
          284,
          301,
          320,
          349,
          382,
          404,
          426,
          424
         ],
         "yaxis": "y"
        },
        {
         "hovertemplate": "State or Territory=New South Wales<br>Year=%{x}<br>Total Cases=%{y}<extra></extra>",
         "legendgroup": "New South Wales",
         "line": {
          "color": "#EF553B",
          "dash": "solid"
         },
         "marker": {
          "symbol": "circle"
         },
         "mode": "lines+markers",
         "name": "New South Wales",
         "orientation": "v",
         "showlegend": true,
         "type": "scatter",
         "x": [
          1982,
          1983,
          1984,
          1985,
          1986,
          1987,
          1988,
          1989,
          1990,
          1991,
          1992,
          1993,
          1994,
          1995,
          1996,
          1997,
          1998,
          1999,
          2000,
          2001,
          2002,
          2003,
          2004,
          2005,
          2006,
          2007,
          2008,
          2009,
          2010,
          2011,
          2012,
          2013,
          2014,
          2015,
          2016,
          2017,
          2018,
          2019,
          2020
         ],
         "xaxis": "x",
         "y": [
          2602,
          2844,
          2998,
          3220,
          3404,
          4218,
          4536,
          4214,
          4224,
          4220,
          4356,
          4962,
          4740,
          4770,
          5062,
          5588,
          5356,
          5558,
          5652,
          6436,
          7188,
          7064,
          7436,
          7714,
          7756,
          7686,
          7874,
          8050,
          8386,
          8618,
          9010,
          9326,
          9394,
          9496,
          10378,
          10730,
          10904,
          11144,
          10986
         ],
         "yaxis": "y"
        },
        {
         "hovertemplate": "State or Territory=Northern Territory<br>Year=%{x}<br>Total Cases=%{y}<extra></extra>",
         "legendgroup": "Northern Territory",
         "line": {
          "color": "#00cc96",
          "dash": "solid"
         },
         "marker": {
          "symbol": "circle"
         },
         "mode": "lines+markers",
         "name": "Northern Territory",
         "orientation": "v",
         "showlegend": true,
         "type": "scatter",
         "x": [
          1982,
          1983,
          1984,
          1985,
          1986,
          1987,
          1988,
          1989,
          1990,
          1991,
          1992,
          1993,
          1994,
          1995,
          1996,
          1997,
          1998,
          1999,
          2000,
          2001,
          2002,
          2003,
          2004,
          2005,
          2006,
          2007,
          2008,
          2009,
          2010,
          2011,
          2012,
          2013,
          2014,
          2015,
          2016,
          2017,
          2018,
          2019,
          2020
         ],
         "xaxis": "x",
         "y": [
          0,
          0,
          0,
          0,
          22,
          26,
          35,
          38,
          44,
          51,
          62,
          62,
          64,
          64,
          70,
          72,
          74,
          80,
          90,
          94,
          90,
          98,
          100,
          98,
          96,
          100,
          100,
          102,
          108,
          113,
          124,
          129,
          140,
          154,
          169,
          168,
          173,
          182,
          181
         ],
         "yaxis": "y"
        },
        {
         "hovertemplate": "State or Territory=Queensland<br>Year=%{x}<br>Total Cases=%{y}<extra></extra>",
         "legendgroup": "Queensland",
         "line": {
          "color": "#ab63fa",
          "dash": "solid"
         },
         "marker": {
          "symbol": "circle"
         },
         "mode": "lines+markers",
         "name": "Queensland",
         "orientation": "v",
         "showlegend": true,
         "type": "scatter",
         "x": [
          1982,
          1983,
          1984,
          1985,
          1986,
          1987,
          1988,
          1989,
          1990,
          1991,
          1992,
          1993,
          1994,
          1995,
          1996,
          1997,
          1998,
          1999,
          2000,
          2001,
          2002,
          2003,
          2004,
          2005,
          2006,
          2007,
          2008,
          2009,
          2010,
          2011,
          2012,
          2013,
          2014,
          2015,
          2016,
          2017,
          2018,
          2019,
          2020
         ],
         "xaxis": "x",
         "y": [
          1802,
          1834,
          2080,
          2172,
          2476,
          2734,
          2734,
          2760,
          2788,
          2834,
          3146,
          3054,
          3248,
          3640,
          3956,
          4260,
          4278,
          4100,
          4534,
          4882,
          5312,
          5044,
          4950,
          5628,
          5238,
          5748,
          6252,
          6482,
          6584,
          6970,
          7292,
          7826,
          7822,
          7946,
          8394,
          8834,
          8588,
          9530,
          8974
         ],
         "yaxis": "y"
        },
        {
         "hovertemplate": "State or Territory=South Australia<br>Year=%{x}<br>Total Cases=%{y}<extra></extra>",
         "legendgroup": "South Australia",
         "line": {
          "color": "#FFA15A",
          "dash": "solid"
         },
         "marker": {
          "symbol": "circle"
         },
         "mode": "lines+markers",
         "name": "South Australia",
         "orientation": "v",
         "showlegend": true,
         "type": "scatter",
         "x": [
          1982,
          1983,
          1984,
          1985,
          1986,
          1987,
          1988,
          1989,
          1990,
          1991,
          1992,
          1993,
          1994,
          1995,
          1996,
          1997,
          1998,
          1999,
          2000,
          2001,
          2002,
          2003,
          2004,
          2005,
          2006,
          2007,
          2008,
          2009,
          2010,
          2011,
          2012,
          2013,
          2014,
          2015,
          2016,
          2017,
          2018,
          2019,
          2020
         ],
         "xaxis": "x",
         "y": [
          496,
          536,
          564,
          724,
          712,
          770,
          916,
          870,
          934,
          918,
          1166,
          1070,
          1224,
          1166,
          1164,
          1326,
          1152,
          1210,
          1230,
          1276,
          1366,
          1346,
          1386,
          1498,
          1292,
          1284,
          1510,
          1390,
          1452,
          1454,
          1464,
          1506,
          1662,
          1622,
          1710,
          1696,
          1664,
          1894,
          1918
         ],
         "yaxis": "y"
        },
        {
         "hovertemplate": "State or Territory=Tasmania<br>Year=%{x}<br>Total Cases=%{y}<extra></extra>",
         "legendgroup": "Tasmania",
         "line": {
          "color": "#19d3f3",
          "dash": "solid"
         },
         "marker": {
          "symbol": "circle"
         },
         "mode": "lines+markers",
         "name": "Tasmania",
         "orientation": "v",
         "showlegend": true,
         "type": "scatter",
         "x": [
          1982,
          1983,
          1984,
          1985,
          1986,
          1987,
          1988,
          1989,
          1990,
          1991,
          1992,
          1993,
          1994,
          1995,
          1996,
          1997,
          1998,
          1999,
          2000,
          2001,
          2002,
          2003,
          2004,
          2005,
          2006,
          2007,
          2008,
          2009,
          2010,
          2011,
          2012,
          2013,
          2014,
          2015,
          2016,
          2017,
          2018,
          2019,
          2020
         ],
         "xaxis": "x",
         "y": [
          136,
          152,
          132,
          160,
          174,
          222,
          260,
          230,
          304,
          286,
          254,
          278,
          304,
          366,
          380,
          376,
          340,
          382,
          456,
          444,
          464,
          446,
          460,
          596,
          532,
          508,
          584,
          576,
          628,
          544,
          548,
          584,
          696,
          652,
          694,
          720,
          850,
          870,
          894
         ],
         "yaxis": "y"
        },
        {
         "hovertemplate": "State or Territory=Victoria<br>Year=%{x}<br>Total Cases=%{y}<extra></extra>",
         "legendgroup": "Victoria",
         "line": {
          "color": "#FF6692",
          "dash": "solid"
         },
         "marker": {
          "symbol": "circle"
         },
         "mode": "lines+markers",
         "name": "Victoria",
         "orientation": "v",
         "showlegend": true,
         "type": "scatter",
         "x": [
          1982,
          1983,
          1984,
          1985,
          1986,
          1987,
          1988,
          1989,
          1990,
          1991,
          1992,
          1993,
          1994,
          1995,
          1996,
          1997,
          1998,
          1999,
          2000,
          2001,
          2002,
          2003,
          2004,
          2005,
          2006,
          2007,
          2008,
          2009,
          2010,
          2011,
          2012,
          2013,
          2014,
          2015,
          2016,
          2017,
          2018,
          2019,
          2020
         ],
         "xaxis": "x",
         "y": [
          1288,
          1442,
          1490,
          1736,
          1660,
          1996,
          2252,
          2216,
          2202,
          2258,
          2754,
          2522,
          2630,
          3072,
          3372,
          3620,
          3084,
          3336,
          3464,
          3634,
          3818,
          3682,
          4090,
          4764,
          4522,
          4526,
          4598,
          4918,
          4714,
          4266,
          4688,
          4836,
          5174,
          5626,
          5922,
          6420,
          6445,
          6156,
          5644
         ],
         "yaxis": "y"
        },
        {
         "hovertemplate": "State or Territory=Western Australia<br>Year=%{x}<br>Total Cases=%{y}<extra></extra>",
         "legendgroup": "Western Australia",
         "line": {
          "color": "#B6E880",
          "dash": "solid"
         },
         "marker": {
          "symbol": "circle"
         },
         "mode": "lines+markers",
         "name": "Western Australia",
         "orientation": "v",
         "showlegend": true,
         "type": "scatter",
         "x": [
          1982,
          1983,
          1984,
          1985,
          1986,
          1987,
          1988,
          1989,
          1990,
          1991,
          1992,
          1993,
          1994,
          1995,
          1996,
          1997,
          1998,
          1999,
          2000,
          2001,
          2002,
          2003,
          2004,
          2005,
          2006,
          2007,
          2008,
          2009,
          2010,
          2011,
          2012,
          2013,
          2014,
          2015,
          2016,
          2017,
          2018,
          2019,
          2020
         ],
         "xaxis": "x",
         "y": [
          674,
          660,
          692,
          840,
          820,
          956,
          1094,
          964,
          1022,
          1204,
          1216,
          1426,
          1544,
          1664,
          1470,
          1378,
          1502,
          1886,
          1796,
          1972,
          2286,
          2326,
          2152,
          2126,
          2364,
          2120,
          2328,
          2226,
          2228,
          2422,
          2526,
          2886,
          2840,
          3378,
          3324,
          3150,
          3174,
          3494,
          3063
         ],
         "yaxis": "y"
        }
       ],
       "layout": {
        "height": 600,
        "hovermode": "closest",
        "legend": {
         "orientation": "h",
         "title": {
          "text": "State or Territory"
         },
         "tracegroupgap": 0,
         "x": 0.5,
         "xanchor": "center",
         "y": -0.2,
         "yanchor": "bottom"
        },
        "plot_bgcolor": "white",
        "template": {
         "data": {
          "bar": [
           {
            "error_x": {
             "color": "#2a3f5f"
            },
            "error_y": {
             "color": "#2a3f5f"
            },
            "marker": {
             "line": {
              "color": "#E5ECF6",
              "width": 0.5
             },
             "pattern": {
              "fillmode": "overlay",
              "size": 10,
              "solidity": 0.2
             }
            },
            "type": "bar"
           }
          ],
          "barpolar": [
           {
            "marker": {
             "line": {
              "color": "#E5ECF6",
              "width": 0.5
             },
             "pattern": {
              "fillmode": "overlay",
              "size": 10,
              "solidity": 0.2
             }
            },
            "type": "barpolar"
           }
          ],
          "carpet": [
           {
            "aaxis": {
             "endlinecolor": "#2a3f5f",
             "gridcolor": "white",
             "linecolor": "white",
             "minorgridcolor": "white",
             "startlinecolor": "#2a3f5f"
            },
            "baxis": {
             "endlinecolor": "#2a3f5f",
             "gridcolor": "white",
             "linecolor": "white",
             "minorgridcolor": "white",
             "startlinecolor": "#2a3f5f"
            },
            "type": "carpet"
           }
          ],
          "choropleth": [
           {
            "colorbar": {
             "outlinewidth": 0,
             "ticks": ""
            },
            "type": "choropleth"
           }
          ],
          "contour": [
           {
            "colorbar": {
             "outlinewidth": 0,
             "ticks": ""
            },
            "colorscale": [
             [
              0,
              "#0d0887"
             ],
             [
              0.1111111111111111,
              "#46039f"
             ],
             [
              0.2222222222222222,
              "#7201a8"
             ],
             [
              0.3333333333333333,
              "#9c179e"
             ],
             [
              0.4444444444444444,
              "#bd3786"
             ],
             [
              0.5555555555555556,
              "#d8576b"
             ],
             [
              0.6666666666666666,
              "#ed7953"
             ],
             [
              0.7777777777777778,
              "#fb9f3a"
             ],
             [
              0.8888888888888888,
              "#fdca26"
             ],
             [
              1,
              "#f0f921"
             ]
            ],
            "type": "contour"
           }
          ],
          "contourcarpet": [
           {
            "colorbar": {
             "outlinewidth": 0,
             "ticks": ""
            },
            "type": "contourcarpet"
           }
          ],
          "heatmap": [
           {
            "colorbar": {
             "outlinewidth": 0,
             "ticks": ""
            },
            "colorscale": [
             [
              0,
              "#0d0887"
             ],
             [
              0.1111111111111111,
              "#46039f"
             ],
             [
              0.2222222222222222,
              "#7201a8"
             ],
             [
              0.3333333333333333,
              "#9c179e"
             ],
             [
              0.4444444444444444,
              "#bd3786"
             ],
             [
              0.5555555555555556,
              "#d8576b"
             ],
             [
              0.6666666666666666,
              "#ed7953"
             ],
             [
              0.7777777777777778,
              "#fb9f3a"
             ],
             [
              0.8888888888888888,
              "#fdca26"
             ],
             [
              1,
              "#f0f921"
             ]
            ],
            "type": "heatmap"
           }
          ],
          "heatmapgl": [
           {
            "colorbar": {
             "outlinewidth": 0,
             "ticks": ""
            },
            "colorscale": [
             [
              0,
              "#0d0887"
             ],
             [
              0.1111111111111111,
              "#46039f"
             ],
             [
              0.2222222222222222,
              "#7201a8"
             ],
             [
              0.3333333333333333,
              "#9c179e"
             ],
             [
              0.4444444444444444,
              "#bd3786"
             ],
             [
              0.5555555555555556,
              "#d8576b"
             ],
             [
              0.6666666666666666,
              "#ed7953"
             ],
             [
              0.7777777777777778,
              "#fb9f3a"
             ],
             [
              0.8888888888888888,
              "#fdca26"
             ],
             [
              1,
              "#f0f921"
             ]
            ],
            "type": "heatmapgl"
           }
          ],
          "histogram": [
           {
            "marker": {
             "pattern": {
              "fillmode": "overlay",
              "size": 10,
              "solidity": 0.2
             }
            },
            "type": "histogram"
           }
          ],
          "histogram2d": [
           {
            "colorbar": {
             "outlinewidth": 0,
             "ticks": ""
            },
            "colorscale": [
             [
              0,
              "#0d0887"
             ],
             [
              0.1111111111111111,
              "#46039f"
             ],
             [
              0.2222222222222222,
              "#7201a8"
             ],
             [
              0.3333333333333333,
              "#9c179e"
             ],
             [
              0.4444444444444444,
              "#bd3786"
             ],
             [
              0.5555555555555556,
              "#d8576b"
             ],
             [
              0.6666666666666666,
              "#ed7953"
             ],
             [
              0.7777777777777778,
              "#fb9f3a"
             ],
             [
              0.8888888888888888,
              "#fdca26"
             ],
             [
              1,
              "#f0f921"
             ]
            ],
            "type": "histogram2d"
           }
          ],
          "histogram2dcontour": [
           {
            "colorbar": {
             "outlinewidth": 0,
             "ticks": ""
            },
            "colorscale": [
             [
              0,
              "#0d0887"
             ],
             [
              0.1111111111111111,
              "#46039f"
             ],
             [
              0.2222222222222222,
              "#7201a8"
             ],
             [
              0.3333333333333333,
              "#9c179e"
             ],
             [
              0.4444444444444444,
              "#bd3786"
             ],
             [
              0.5555555555555556,
              "#d8576b"
             ],
             [
              0.6666666666666666,
              "#ed7953"
             ],
             [
              0.7777777777777778,
              "#fb9f3a"
             ],
             [
              0.8888888888888888,
              "#fdca26"
             ],
             [
              1,
              "#f0f921"
             ]
            ],
            "type": "histogram2dcontour"
           }
          ],
          "mesh3d": [
           {
            "colorbar": {
             "outlinewidth": 0,
             "ticks": ""
            },
            "type": "mesh3d"
           }
          ],
          "parcoords": [
           {
            "line": {
             "colorbar": {
              "outlinewidth": 0,
              "ticks": ""
             }
            },
            "type": "parcoords"
           }
          ],
          "pie": [
           {
            "automargin": true,
            "type": "pie"
           }
          ],
          "scatter": [
           {
            "fillpattern": {
             "fillmode": "overlay",
             "size": 10,
             "solidity": 0.2
            },
            "type": "scatter"
           }
          ],
          "scatter3d": [
           {
            "line": {
             "colorbar": {
              "outlinewidth": 0,
              "ticks": ""
             }
            },
            "marker": {
             "colorbar": {
              "outlinewidth": 0,
              "ticks": ""
             }
            },
            "type": "scatter3d"
           }
          ],
          "scattercarpet": [
           {
            "marker": {
             "colorbar": {
              "outlinewidth": 0,
              "ticks": ""
             }
            },
            "type": "scattercarpet"
           }
          ],
          "scattergeo": [
           {
            "marker": {
             "colorbar": {
              "outlinewidth": 0,
              "ticks": ""
             }
            },
            "type": "scattergeo"
           }
          ],
          "scattergl": [
           {
            "marker": {
             "colorbar": {
              "outlinewidth": 0,
              "ticks": ""
             }
            },
            "type": "scattergl"
           }
          ],
          "scattermapbox": [
           {
            "marker": {
             "colorbar": {
              "outlinewidth": 0,
              "ticks": ""
             }
            },
            "type": "scattermapbox"
           }
          ],
          "scatterpolar": [
           {
            "marker": {
             "colorbar": {
              "outlinewidth": 0,
              "ticks": ""
             }
            },
            "type": "scatterpolar"
           }
          ],
          "scatterpolargl": [
           {
            "marker": {
             "colorbar": {
              "outlinewidth": 0,
              "ticks": ""
             }
            },
            "type": "scatterpolargl"
           }
          ],
          "scatterternary": [
           {
            "marker": {
             "colorbar": {
              "outlinewidth": 0,
              "ticks": ""
             }
            },
            "type": "scatterternary"
           }
          ],
          "surface": [
           {
            "colorbar": {
             "outlinewidth": 0,
             "ticks": ""
            },
            "colorscale": [
             [
              0,
              "#0d0887"
             ],
             [
              0.1111111111111111,
              "#46039f"
             ],
             [
              0.2222222222222222,
              "#7201a8"
             ],
             [
              0.3333333333333333,
              "#9c179e"
             ],
             [
              0.4444444444444444,
              "#bd3786"
             ],
             [
              0.5555555555555556,
              "#d8576b"
             ],
             [
              0.6666666666666666,
              "#ed7953"
             ],
             [
              0.7777777777777778,
              "#fb9f3a"
             ],
             [
              0.8888888888888888,
              "#fdca26"
             ],
             [
              1,
              "#f0f921"
             ]
            ],
            "type": "surface"
           }
          ],
          "table": [
           {
            "cells": {
             "fill": {
              "color": "#EBF0F8"
             },
             "line": {
              "color": "white"
             }
            },
            "header": {
             "fill": {
              "color": "#C8D4E3"
             },
             "line": {
              "color": "white"
             }
            },
            "type": "table"
           }
          ]
         },
         "layout": {
          "annotationdefaults": {
           "arrowcolor": "#2a3f5f",
           "arrowhead": 0,
           "arrowwidth": 1
          },
          "autotypenumbers": "strict",
          "coloraxis": {
           "colorbar": {
            "outlinewidth": 0,
            "ticks": ""
           }
          },
          "colorscale": {
           "diverging": [
            [
             0,
             "#8e0152"
            ],
            [
             0.1,
             "#c51b7d"
            ],
            [
             0.2,
             "#de77ae"
            ],
            [
             0.3,
             "#f1b6da"
            ],
            [
             0.4,
             "#fde0ef"
            ],
            [
             0.5,
             "#f7f7f7"
            ],
            [
             0.6,
             "#e6f5d0"
            ],
            [
             0.7,
             "#b8e186"
            ],
            [
             0.8,
             "#7fbc41"
            ],
            [
             0.9,
             "#4d9221"
            ],
            [
             1,
             "#276419"
            ]
           ],
           "sequential": [
            [
             0,
             "#0d0887"
            ],
            [
             0.1111111111111111,
             "#46039f"
            ],
            [
             0.2222222222222222,
             "#7201a8"
            ],
            [
             0.3333333333333333,
             "#9c179e"
            ],
            [
             0.4444444444444444,
             "#bd3786"
            ],
            [
             0.5555555555555556,
             "#d8576b"
            ],
            [
             0.6666666666666666,
             "#ed7953"
            ],
            [
             0.7777777777777778,
             "#fb9f3a"
            ],
            [
             0.8888888888888888,
             "#fdca26"
            ],
            [
             1,
             "#f0f921"
            ]
           ],
           "sequentialminus": [
            [
             0,
             "#0d0887"
            ],
            [
             0.1111111111111111,
             "#46039f"
            ],
            [
             0.2222222222222222,
             "#7201a8"
            ],
            [
             0.3333333333333333,
             "#9c179e"
            ],
            [
             0.4444444444444444,
             "#bd3786"
            ],
            [
             0.5555555555555556,
             "#d8576b"
            ],
            [
             0.6666666666666666,
             "#ed7953"
            ],
            [
             0.7777777777777778,
             "#fb9f3a"
            ],
            [
             0.8888888888888888,
             "#fdca26"
            ],
            [
             1,
             "#f0f921"
            ]
           ]
          },
          "colorway": [
           "#636efa",
           "#EF553B",
           "#00cc96",
           "#ab63fa",
           "#FFA15A",
           "#19d3f3",
           "#FF6692",
           "#B6E880",
           "#FF97FF",
           "#FECB52"
          ],
          "font": {
           "color": "#2a3f5f"
          },
          "geo": {
           "bgcolor": "white",
           "lakecolor": "white",
           "landcolor": "#E5ECF6",
           "showlakes": true,
           "showland": true,
           "subunitcolor": "white"
          },
          "hoverlabel": {
           "align": "left"
          },
          "hovermode": "closest",
          "mapbox": {
           "style": "light"
          },
          "paper_bgcolor": "white",
          "plot_bgcolor": "#E5ECF6",
          "polar": {
           "angularaxis": {
            "gridcolor": "white",
            "linecolor": "white",
            "ticks": ""
           },
           "bgcolor": "#E5ECF6",
           "radialaxis": {
            "gridcolor": "white",
            "linecolor": "white",
            "ticks": ""
           }
          },
          "scene": {
           "xaxis": {
            "backgroundcolor": "#E5ECF6",
            "gridcolor": "white",
            "gridwidth": 2,
            "linecolor": "white",
            "showbackground": true,
            "ticks": "",
            "zerolinecolor": "white"
           },
           "yaxis": {
            "backgroundcolor": "#E5ECF6",
            "gridcolor": "white",
            "gridwidth": 2,
            "linecolor": "white",
            "showbackground": true,
            "ticks": "",
            "zerolinecolor": "white"
           },
           "zaxis": {
            "backgroundcolor": "#E5ECF6",
            "gridcolor": "white",
            "gridwidth": 2,
            "linecolor": "white",
            "showbackground": true,
            "ticks": "",
            "zerolinecolor": "white"
           }
          },
          "shapedefaults": {
           "line": {
            "color": "#2a3f5f"
           }
          },
          "ternary": {
           "aaxis": {
            "gridcolor": "white",
            "linecolor": "white",
            "ticks": ""
           },
           "baxis": {
            "gridcolor": "white",
            "linecolor": "white",
            "ticks": ""
           },
           "bgcolor": "#E5ECF6",
           "caxis": {
            "gridcolor": "white",
            "linecolor": "white",
            "ticks": ""
           }
          },
          "title": {
           "x": 0.05
          },
          "xaxis": {
           "automargin": true,
           "gridcolor": "white",
           "linecolor": "white",
           "ticks": "",
           "title": {
            "standoff": 15
           },
           "zerolinecolor": "white",
           "zerolinewidth": 2
          },
          "yaxis": {
           "automargin": true,
           "gridcolor": "white",
           "linecolor": "white",
           "ticks": "",
           "title": {
            "standoff": 15
           },
           "zerolinecolor": "white",
           "zerolinewidth": 2
          }
         }
        },
        "title": {
         "text": "Total Skin Cancer Incidences Over Years by State",
         "x": 0.24,
         "y": 0.87
        },
        "updatemenus": [
         {
          "buttons": [
           {
            "args": [
             {
              "xaxis.range": [
               1982,
               2020
              ],
              "xaxis.rangeselector": {
               "visible": false
              }
             }
            ],
            "label": "Reset Year Filters",
            "method": "relayout"
           }
          ],
          "font": {
           "size": 12
          },
          "showactive": true,
          "type": "buttons",
          "x": 0.5,
          "xanchor": "center",
          "y": -0.6,
          "yanchor": "top"
         }
        ],
        "width": 1000,
        "xaxis": {
         "anchor": "y",
         "domain": [
          0,
          1
         ],
         "rangeslider": {
          "visible": true
         },
         "tickmode": "linear",
         "title": {
          "text": "Year"
         }
        },
        "yaxis": {
         "anchor": "x",
         "domain": [
          0,
          1
         ],
         "gridcolor": "lightgrey",
         "tickfont": {
          "size": 14
         },
         "title": {
          "text": "Total Cases"
         }
        }
       }
      },
      "text/html": [
       "<div>                            <div id=\"48818775-03f5-49df-b83c-c9768eee7787\" class=\"plotly-graph-div\" style=\"height:600px; width:1000px;\"></div>            <script type=\"text/javascript\">                require([\"plotly\"], function(Plotly) {                    window.PLOTLYENV=window.PLOTLYENV || {};                                    if (document.getElementById(\"48818775-03f5-49df-b83c-c9768eee7787\")) {                    Plotly.newPlot(                        \"48818775-03f5-49df-b83c-c9768eee7787\",                        [{\"hovertemplate\":\"State or Territory=Australian Capital Territory<br>Year=%{x}<br>Total Cases=%{y}<extra></extra>\",\"legendgroup\":\"Australian Capital Territory\",\"line\":{\"color\":\"#636efa\",\"dash\":\"solid\"},\"marker\":{\"symbol\":\"circle\"},\"mode\":\"lines+markers\",\"name\":\"Australian Capital Territory\",\"orientation\":\"v\",\"showlegend\":true,\"x\":[1982.0,1983.0,1984.0,1985.0,1986.0,1987.0,1988.0,1989.0,1990.0,1991.0,1992.0,1993.0,1994.0,1995.0,1996.0,1997.0,1998.0,1999.0,2000.0,2001.0,2002.0,2003.0,2004.0,2005.0,2006.0,2007.0,2008.0,2009.0,2010.0,2011.0,2012.0,2013.0,2014.0,2015.0,2016.0,2017.0,2018.0,2019.0,2020.0],\"xaxis\":\"x\",\"y\":[0,0,0,0,114,138,151,158,160,159,152,148,148,162,167,186,195,213,209,218,216,218,226,277,283,276,289,279,260,260,279,284,301,320,349,382,404,426,424],\"yaxis\":\"y\",\"type\":\"scatter\"},{\"hovertemplate\":\"State or Territory=New South Wales<br>Year=%{x}<br>Total Cases=%{y}<extra></extra>\",\"legendgroup\":\"New South Wales\",\"line\":{\"color\":\"#EF553B\",\"dash\":\"solid\"},\"marker\":{\"symbol\":\"circle\"},\"mode\":\"lines+markers\",\"name\":\"New South Wales\",\"orientation\":\"v\",\"showlegend\":true,\"x\":[1982.0,1983.0,1984.0,1985.0,1986.0,1987.0,1988.0,1989.0,1990.0,1991.0,1992.0,1993.0,1994.0,1995.0,1996.0,1997.0,1998.0,1999.0,2000.0,2001.0,2002.0,2003.0,2004.0,2005.0,2006.0,2007.0,2008.0,2009.0,2010.0,2011.0,2012.0,2013.0,2014.0,2015.0,2016.0,2017.0,2018.0,2019.0,2020.0],\"xaxis\":\"x\",\"y\":[2602,2844,2998,3220,3404,4218,4536,4214,4224,4220,4356,4962,4740,4770,5062,5588,5356,5558,5652,6436,7188,7064,7436,7714,7756,7686,7874,8050,8386,8618,9010,9326,9394,9496,10378,10730,10904,11144,10986],\"yaxis\":\"y\",\"type\":\"scatter\"},{\"hovertemplate\":\"State or Territory=Northern Territory<br>Year=%{x}<br>Total Cases=%{y}<extra></extra>\",\"legendgroup\":\"Northern Territory\",\"line\":{\"color\":\"#00cc96\",\"dash\":\"solid\"},\"marker\":{\"symbol\":\"circle\"},\"mode\":\"lines+markers\",\"name\":\"Northern Territory\",\"orientation\":\"v\",\"showlegend\":true,\"x\":[1982.0,1983.0,1984.0,1985.0,1986.0,1987.0,1988.0,1989.0,1990.0,1991.0,1992.0,1993.0,1994.0,1995.0,1996.0,1997.0,1998.0,1999.0,2000.0,2001.0,2002.0,2003.0,2004.0,2005.0,2006.0,2007.0,2008.0,2009.0,2010.0,2011.0,2012.0,2013.0,2014.0,2015.0,2016.0,2017.0,2018.0,2019.0,2020.0],\"xaxis\":\"x\",\"y\":[0,0,0,0,22,26,35,38,44,51,62,62,64,64,70,72,74,80,90,94,90,98,100,98,96,100,100,102,108,113,124,129,140,154,169,168,173,182,181],\"yaxis\":\"y\",\"type\":\"scatter\"},{\"hovertemplate\":\"State or Territory=Queensland<br>Year=%{x}<br>Total Cases=%{y}<extra></extra>\",\"legendgroup\":\"Queensland\",\"line\":{\"color\":\"#ab63fa\",\"dash\":\"solid\"},\"marker\":{\"symbol\":\"circle\"},\"mode\":\"lines+markers\",\"name\":\"Queensland\",\"orientation\":\"v\",\"showlegend\":true,\"x\":[1982.0,1983.0,1984.0,1985.0,1986.0,1987.0,1988.0,1989.0,1990.0,1991.0,1992.0,1993.0,1994.0,1995.0,1996.0,1997.0,1998.0,1999.0,2000.0,2001.0,2002.0,2003.0,2004.0,2005.0,2006.0,2007.0,2008.0,2009.0,2010.0,2011.0,2012.0,2013.0,2014.0,2015.0,2016.0,2017.0,2018.0,2019.0,2020.0],\"xaxis\":\"x\",\"y\":[1802,1834,2080,2172,2476,2734,2734,2760,2788,2834,3146,3054,3248,3640,3956,4260,4278,4100,4534,4882,5312,5044,4950,5628,5238,5748,6252,6482,6584,6970,7292,7826,7822,7946,8394,8834,8588,9530,8974],\"yaxis\":\"y\",\"type\":\"scatter\"},{\"hovertemplate\":\"State or Territory=South Australia<br>Year=%{x}<br>Total Cases=%{y}<extra></extra>\",\"legendgroup\":\"South Australia\",\"line\":{\"color\":\"#FFA15A\",\"dash\":\"solid\"},\"marker\":{\"symbol\":\"circle\"},\"mode\":\"lines+markers\",\"name\":\"South Australia\",\"orientation\":\"v\",\"showlegend\":true,\"x\":[1982.0,1983.0,1984.0,1985.0,1986.0,1987.0,1988.0,1989.0,1990.0,1991.0,1992.0,1993.0,1994.0,1995.0,1996.0,1997.0,1998.0,1999.0,2000.0,2001.0,2002.0,2003.0,2004.0,2005.0,2006.0,2007.0,2008.0,2009.0,2010.0,2011.0,2012.0,2013.0,2014.0,2015.0,2016.0,2017.0,2018.0,2019.0,2020.0],\"xaxis\":\"x\",\"y\":[496,536,564,724,712,770,916,870,934,918,1166,1070,1224,1166,1164,1326,1152,1210,1230,1276,1366,1346,1386,1498,1292,1284,1510,1390,1452,1454,1464,1506,1662,1622,1710,1696,1664,1894,1918],\"yaxis\":\"y\",\"type\":\"scatter\"},{\"hovertemplate\":\"State or Territory=Tasmania<br>Year=%{x}<br>Total Cases=%{y}<extra></extra>\",\"legendgroup\":\"Tasmania\",\"line\":{\"color\":\"#19d3f3\",\"dash\":\"solid\"},\"marker\":{\"symbol\":\"circle\"},\"mode\":\"lines+markers\",\"name\":\"Tasmania\",\"orientation\":\"v\",\"showlegend\":true,\"x\":[1982.0,1983.0,1984.0,1985.0,1986.0,1987.0,1988.0,1989.0,1990.0,1991.0,1992.0,1993.0,1994.0,1995.0,1996.0,1997.0,1998.0,1999.0,2000.0,2001.0,2002.0,2003.0,2004.0,2005.0,2006.0,2007.0,2008.0,2009.0,2010.0,2011.0,2012.0,2013.0,2014.0,2015.0,2016.0,2017.0,2018.0,2019.0,2020.0],\"xaxis\":\"x\",\"y\":[136,152,132,160,174,222,260,230,304,286,254,278,304,366,380,376,340,382,456,444,464,446,460,596,532,508,584,576,628,544,548,584,696,652,694,720,850,870,894],\"yaxis\":\"y\",\"type\":\"scatter\"},{\"hovertemplate\":\"State or Territory=Victoria<br>Year=%{x}<br>Total Cases=%{y}<extra></extra>\",\"legendgroup\":\"Victoria\",\"line\":{\"color\":\"#FF6692\",\"dash\":\"solid\"},\"marker\":{\"symbol\":\"circle\"},\"mode\":\"lines+markers\",\"name\":\"Victoria\",\"orientation\":\"v\",\"showlegend\":true,\"x\":[1982.0,1983.0,1984.0,1985.0,1986.0,1987.0,1988.0,1989.0,1990.0,1991.0,1992.0,1993.0,1994.0,1995.0,1996.0,1997.0,1998.0,1999.0,2000.0,2001.0,2002.0,2003.0,2004.0,2005.0,2006.0,2007.0,2008.0,2009.0,2010.0,2011.0,2012.0,2013.0,2014.0,2015.0,2016.0,2017.0,2018.0,2019.0,2020.0],\"xaxis\":\"x\",\"y\":[1288,1442,1490,1736,1660,1996,2252,2216,2202,2258,2754,2522,2630,3072,3372,3620,3084,3336,3464,3634,3818,3682,4090,4764,4522,4526,4598,4918,4714,4266,4688,4836,5174,5626,5922,6420,6445,6156,5644],\"yaxis\":\"y\",\"type\":\"scatter\"},{\"hovertemplate\":\"State or Territory=Western Australia<br>Year=%{x}<br>Total Cases=%{y}<extra></extra>\",\"legendgroup\":\"Western Australia\",\"line\":{\"color\":\"#B6E880\",\"dash\":\"solid\"},\"marker\":{\"symbol\":\"circle\"},\"mode\":\"lines+markers\",\"name\":\"Western Australia\",\"orientation\":\"v\",\"showlegend\":true,\"x\":[1982.0,1983.0,1984.0,1985.0,1986.0,1987.0,1988.0,1989.0,1990.0,1991.0,1992.0,1993.0,1994.0,1995.0,1996.0,1997.0,1998.0,1999.0,2000.0,2001.0,2002.0,2003.0,2004.0,2005.0,2006.0,2007.0,2008.0,2009.0,2010.0,2011.0,2012.0,2013.0,2014.0,2015.0,2016.0,2017.0,2018.0,2019.0,2020.0],\"xaxis\":\"x\",\"y\":[674,660,692,840,820,956,1094,964,1022,1204,1216,1426,1544,1664,1470,1378,1502,1886,1796,1972,2286,2326,2152,2126,2364,2120,2328,2226,2228,2422,2526,2886,2840,3378,3324,3150,3174,3494,3063],\"yaxis\":\"y\",\"type\":\"scatter\"}],                        {\"template\":{\"data\":{\"histogram2dcontour\":[{\"type\":\"histogram2dcontour\",\"colorbar\":{\"outlinewidth\":0,\"ticks\":\"\"},\"colorscale\":[[0.0,\"#0d0887\"],[0.1111111111111111,\"#46039f\"],[0.2222222222222222,\"#7201a8\"],[0.3333333333333333,\"#9c179e\"],[0.4444444444444444,\"#bd3786\"],[0.5555555555555556,\"#d8576b\"],[0.6666666666666666,\"#ed7953\"],[0.7777777777777778,\"#fb9f3a\"],[0.8888888888888888,\"#fdca26\"],[1.0,\"#f0f921\"]]}],\"choropleth\":[{\"type\":\"choropleth\",\"colorbar\":{\"outlinewidth\":0,\"ticks\":\"\"}}],\"histogram2d\":[{\"type\":\"histogram2d\",\"colorbar\":{\"outlinewidth\":0,\"ticks\":\"\"},\"colorscale\":[[0.0,\"#0d0887\"],[0.1111111111111111,\"#46039f\"],[0.2222222222222222,\"#7201a8\"],[0.3333333333333333,\"#9c179e\"],[0.4444444444444444,\"#bd3786\"],[0.5555555555555556,\"#d8576b\"],[0.6666666666666666,\"#ed7953\"],[0.7777777777777778,\"#fb9f3a\"],[0.8888888888888888,\"#fdca26\"],[1.0,\"#f0f921\"]]}],\"heatmap\":[{\"type\":\"heatmap\",\"colorbar\":{\"outlinewidth\":0,\"ticks\":\"\"},\"colorscale\":[[0.0,\"#0d0887\"],[0.1111111111111111,\"#46039f\"],[0.2222222222222222,\"#7201a8\"],[0.3333333333333333,\"#9c179e\"],[0.4444444444444444,\"#bd3786\"],[0.5555555555555556,\"#d8576b\"],[0.6666666666666666,\"#ed7953\"],[0.7777777777777778,\"#fb9f3a\"],[0.8888888888888888,\"#fdca26\"],[1.0,\"#f0f921\"]]}],\"heatmapgl\":[{\"type\":\"heatmapgl\",\"colorbar\":{\"outlinewidth\":0,\"ticks\":\"\"},\"colorscale\":[[0.0,\"#0d0887\"],[0.1111111111111111,\"#46039f\"],[0.2222222222222222,\"#7201a8\"],[0.3333333333333333,\"#9c179e\"],[0.4444444444444444,\"#bd3786\"],[0.5555555555555556,\"#d8576b\"],[0.6666666666666666,\"#ed7953\"],[0.7777777777777778,\"#fb9f3a\"],[0.8888888888888888,\"#fdca26\"],[1.0,\"#f0f921\"]]}],\"contourcarpet\":[{\"type\":\"contourcarpet\",\"colorbar\":{\"outlinewidth\":0,\"ticks\":\"\"}}],\"contour\":[{\"type\":\"contour\",\"colorbar\":{\"outlinewidth\":0,\"ticks\":\"\"},\"colorscale\":[[0.0,\"#0d0887\"],[0.1111111111111111,\"#46039f\"],[0.2222222222222222,\"#7201a8\"],[0.3333333333333333,\"#9c179e\"],[0.4444444444444444,\"#bd3786\"],[0.5555555555555556,\"#d8576b\"],[0.6666666666666666,\"#ed7953\"],[0.7777777777777778,\"#fb9f3a\"],[0.8888888888888888,\"#fdca26\"],[1.0,\"#f0f921\"]]}],\"surface\":[{\"type\":\"surface\",\"colorbar\":{\"outlinewidth\":0,\"ticks\":\"\"},\"colorscale\":[[0.0,\"#0d0887\"],[0.1111111111111111,\"#46039f\"],[0.2222222222222222,\"#7201a8\"],[0.3333333333333333,\"#9c179e\"],[0.4444444444444444,\"#bd3786\"],[0.5555555555555556,\"#d8576b\"],[0.6666666666666666,\"#ed7953\"],[0.7777777777777778,\"#fb9f3a\"],[0.8888888888888888,\"#fdca26\"],[1.0,\"#f0f921\"]]}],\"mesh3d\":[{\"type\":\"mesh3d\",\"colorbar\":{\"outlinewidth\":0,\"ticks\":\"\"}}],\"scatter\":[{\"fillpattern\":{\"fillmode\":\"overlay\",\"size\":10,\"solidity\":0.2},\"type\":\"scatter\"}],\"parcoords\":[{\"type\":\"parcoords\",\"line\":{\"colorbar\":{\"outlinewidth\":0,\"ticks\":\"\"}}}],\"scatterpolargl\":[{\"type\":\"scatterpolargl\",\"marker\":{\"colorbar\":{\"outlinewidth\":0,\"ticks\":\"\"}}}],\"bar\":[{\"error_x\":{\"color\":\"#2a3f5f\"},\"error_y\":{\"color\":\"#2a3f5f\"},\"marker\":{\"line\":{\"color\":\"#E5ECF6\",\"width\":0.5},\"pattern\":{\"fillmode\":\"overlay\",\"size\":10,\"solidity\":0.2}},\"type\":\"bar\"}],\"scattergeo\":[{\"type\":\"scattergeo\",\"marker\":{\"colorbar\":{\"outlinewidth\":0,\"ticks\":\"\"}}}],\"scatterpolar\":[{\"type\":\"scatterpolar\",\"marker\":{\"colorbar\":{\"outlinewidth\":0,\"ticks\":\"\"}}}],\"histogram\":[{\"marker\":{\"pattern\":{\"fillmode\":\"overlay\",\"size\":10,\"solidity\":0.2}},\"type\":\"histogram\"}],\"scattergl\":[{\"type\":\"scattergl\",\"marker\":{\"colorbar\":{\"outlinewidth\":0,\"ticks\":\"\"}}}],\"scatter3d\":[{\"type\":\"scatter3d\",\"line\":{\"colorbar\":{\"outlinewidth\":0,\"ticks\":\"\"}},\"marker\":{\"colorbar\":{\"outlinewidth\":0,\"ticks\":\"\"}}}],\"scattermapbox\":[{\"type\":\"scattermapbox\",\"marker\":{\"colorbar\":{\"outlinewidth\":0,\"ticks\":\"\"}}}],\"scatterternary\":[{\"type\":\"scatterternary\",\"marker\":{\"colorbar\":{\"outlinewidth\":0,\"ticks\":\"\"}}}],\"scattercarpet\":[{\"type\":\"scattercarpet\",\"marker\":{\"colorbar\":{\"outlinewidth\":0,\"ticks\":\"\"}}}],\"carpet\":[{\"aaxis\":{\"endlinecolor\":\"#2a3f5f\",\"gridcolor\":\"white\",\"linecolor\":\"white\",\"minorgridcolor\":\"white\",\"startlinecolor\":\"#2a3f5f\"},\"baxis\":{\"endlinecolor\":\"#2a3f5f\",\"gridcolor\":\"white\",\"linecolor\":\"white\",\"minorgridcolor\":\"white\",\"startlinecolor\":\"#2a3f5f\"},\"type\":\"carpet\"}],\"table\":[{\"cells\":{\"fill\":{\"color\":\"#EBF0F8\"},\"line\":{\"color\":\"white\"}},\"header\":{\"fill\":{\"color\":\"#C8D4E3\"},\"line\":{\"color\":\"white\"}},\"type\":\"table\"}],\"barpolar\":[{\"marker\":{\"line\":{\"color\":\"#E5ECF6\",\"width\":0.5},\"pattern\":{\"fillmode\":\"overlay\",\"size\":10,\"solidity\":0.2}},\"type\":\"barpolar\"}],\"pie\":[{\"automargin\":true,\"type\":\"pie\"}]},\"layout\":{\"autotypenumbers\":\"strict\",\"colorway\":[\"#636efa\",\"#EF553B\",\"#00cc96\",\"#ab63fa\",\"#FFA15A\",\"#19d3f3\",\"#FF6692\",\"#B6E880\",\"#FF97FF\",\"#FECB52\"],\"font\":{\"color\":\"#2a3f5f\"},\"hovermode\":\"closest\",\"hoverlabel\":{\"align\":\"left\"},\"paper_bgcolor\":\"white\",\"plot_bgcolor\":\"#E5ECF6\",\"polar\":{\"bgcolor\":\"#E5ECF6\",\"angularaxis\":{\"gridcolor\":\"white\",\"linecolor\":\"white\",\"ticks\":\"\"},\"radialaxis\":{\"gridcolor\":\"white\",\"linecolor\":\"white\",\"ticks\":\"\"}},\"ternary\":{\"bgcolor\":\"#E5ECF6\",\"aaxis\":{\"gridcolor\":\"white\",\"linecolor\":\"white\",\"ticks\":\"\"},\"baxis\":{\"gridcolor\":\"white\",\"linecolor\":\"white\",\"ticks\":\"\"},\"caxis\":{\"gridcolor\":\"white\",\"linecolor\":\"white\",\"ticks\":\"\"}},\"coloraxis\":{\"colorbar\":{\"outlinewidth\":0,\"ticks\":\"\"}},\"colorscale\":{\"sequential\":[[0.0,\"#0d0887\"],[0.1111111111111111,\"#46039f\"],[0.2222222222222222,\"#7201a8\"],[0.3333333333333333,\"#9c179e\"],[0.4444444444444444,\"#bd3786\"],[0.5555555555555556,\"#d8576b\"],[0.6666666666666666,\"#ed7953\"],[0.7777777777777778,\"#fb9f3a\"],[0.8888888888888888,\"#fdca26\"],[1.0,\"#f0f921\"]],\"sequentialminus\":[[0.0,\"#0d0887\"],[0.1111111111111111,\"#46039f\"],[0.2222222222222222,\"#7201a8\"],[0.3333333333333333,\"#9c179e\"],[0.4444444444444444,\"#bd3786\"],[0.5555555555555556,\"#d8576b\"],[0.6666666666666666,\"#ed7953\"],[0.7777777777777778,\"#fb9f3a\"],[0.8888888888888888,\"#fdca26\"],[1.0,\"#f0f921\"]],\"diverging\":[[0,\"#8e0152\"],[0.1,\"#c51b7d\"],[0.2,\"#de77ae\"],[0.3,\"#f1b6da\"],[0.4,\"#fde0ef\"],[0.5,\"#f7f7f7\"],[0.6,\"#e6f5d0\"],[0.7,\"#b8e186\"],[0.8,\"#7fbc41\"],[0.9,\"#4d9221\"],[1,\"#276419\"]]},\"xaxis\":{\"gridcolor\":\"white\",\"linecolor\":\"white\",\"ticks\":\"\",\"title\":{\"standoff\":15},\"zerolinecolor\":\"white\",\"automargin\":true,\"zerolinewidth\":2},\"yaxis\":{\"gridcolor\":\"white\",\"linecolor\":\"white\",\"ticks\":\"\",\"title\":{\"standoff\":15},\"zerolinecolor\":\"white\",\"automargin\":true,\"zerolinewidth\":2},\"scene\":{\"xaxis\":{\"backgroundcolor\":\"#E5ECF6\",\"gridcolor\":\"white\",\"linecolor\":\"white\",\"showbackground\":true,\"ticks\":\"\",\"zerolinecolor\":\"white\",\"gridwidth\":2},\"yaxis\":{\"backgroundcolor\":\"#E5ECF6\",\"gridcolor\":\"white\",\"linecolor\":\"white\",\"showbackground\":true,\"ticks\":\"\",\"zerolinecolor\":\"white\",\"gridwidth\":2},\"zaxis\":{\"backgroundcolor\":\"#E5ECF6\",\"gridcolor\":\"white\",\"linecolor\":\"white\",\"showbackground\":true,\"ticks\":\"\",\"zerolinecolor\":\"white\",\"gridwidth\":2}},\"shapedefaults\":{\"line\":{\"color\":\"#2a3f5f\"}},\"annotationdefaults\":{\"arrowcolor\":\"#2a3f5f\",\"arrowhead\":0,\"arrowwidth\":1},\"geo\":{\"bgcolor\":\"white\",\"landcolor\":\"#E5ECF6\",\"subunitcolor\":\"white\",\"showland\":true,\"showlakes\":true,\"lakecolor\":\"white\"},\"title\":{\"x\":0.05},\"mapbox\":{\"style\":\"light\"}}},\"xaxis\":{\"anchor\":\"y\",\"domain\":[0.0,1.0],\"title\":{\"text\":\"Year\"},\"rangeslider\":{\"visible\":true},\"tickmode\":\"linear\"},\"yaxis\":{\"anchor\":\"x\",\"domain\":[0.0,1.0],\"title\":{\"text\":\"Total Cases\"},\"tickfont\":{\"size\":14},\"gridcolor\":\"lightgrey\"},\"legend\":{\"title\":{\"text\":\"State or Territory\"},\"tracegroupgap\":0,\"orientation\":\"h\",\"yanchor\":\"bottom\",\"y\":-0.2,\"xanchor\":\"center\",\"x\":0.5},\"title\":{\"text\":\"Total Skin Cancer Incidences Over Years by State\",\"x\":0.24,\"y\":0.87},\"plot_bgcolor\":\"white\",\"hovermode\":\"closest\",\"width\":1000,\"height\":600,\"updatemenus\":[{\"buttons\":[{\"args\":[{\"xaxis.range\":[1982.0,2020.0],\"xaxis.rangeselector\":{\"visible\":false}}],\"label\":\"Reset Year Filters\",\"method\":\"relayout\"}],\"font\":{\"size\":12},\"showactive\":true,\"type\":\"buttons\",\"x\":0.5,\"xanchor\":\"center\",\"y\":-0.6,\"yanchor\":\"top\"}]},                        {\"responsive\": true}                    ).then(function(){\n",
       "                            \n",
       "var gd = document.getElementById('48818775-03f5-49df-b83c-c9768eee7787');\n",
       "var x = new MutationObserver(function (mutations, observer) {{\n",
       "        var display = window.getComputedStyle(gd).display;\n",
       "        if (!display || display === 'none') {{\n",
       "            console.log([gd, 'removed!']);\n",
       "            Plotly.purge(gd);\n",
       "            observer.disconnect();\n",
       "        }}\n",
       "}});\n",
       "\n",
       "// Listen for the removal of the full notebook cells\n",
       "var notebookContainer = gd.closest('#notebook-container');\n",
       "if (notebookContainer) {{\n",
       "    x.observe(notebookContainer, {childList: true});\n",
       "}}\n",
       "\n",
       "// Listen for the clearing of the current output cell\n",
       "var outputEl = gd.closest('.output');\n",
       "if (outputEl) {{\n",
       "    x.observe(outputEl, {childList: true});\n",
       "}}\n",
       "\n",
       "                        })                };                });            </script>        </div>"
      ]
     },
     "metadata": {},
     "output_type": "display_data"
    }
   ],
   "source": [
    "def plot_cancer_cases_by_state_interactive(df_incidence_and_mortality_1, except_value, is_filtered, group_value_list, category):\n",
    "    \"\"\"\n",
    "    Plots an interactive line chart showing total skin cancer incidences over the years for each State or Territory.\n",
    "    Users can toggle visibility for different territories by interacting with the chart legend.\n",
    "\n",
    "    Parameters:\n",
    "    df_incidence_and_mortality_1 (pd.DataFrame): DataFrame containing 'Year', 'new_count', and 'State or Territory' columns.\n",
    "    except_value (str): Value to exclude in filtering.\n",
    "    is_filtered (bool): Flag indicating if data should be filtered.\n",
    "    group_value_list (list): List of column names to group by.\n",
    "    category (str): Category label for the plot title.\n",
    "\n",
    "    Returns:\n",
    "    None\n",
    "    \"\"\"\n",
    "    # Filter data if necessary\n",
    "    if is_filtered:\n",
    "        df_incidence_and_mortality_1 = df_incidence_and_mortality_1[~df_incidence_and_mortality_1[group_value_list[1]].isin([except_value])]\n",
    "    \n",
    "    # Aggregate data by summing 'new_count' for each Year and State/Territory\n",
    "    df_grouped = df_incidence_and_mortality_1.groupby(group_value_list, as_index=False)['new_count'].sum()\n",
    "\n",
    "    # Create an interactive plot using plotly.express\n",
    "    fig = px.line(df_grouped, x='Year', y='new_count', color=group_value_list[1],\n",
    "                  title=f'Total Skin Cancer {category} Over Years by State',\n",
    "                  labels={'new_count': 'Total Cases', 'Year': 'Year'},\n",
    "                  markers=True)\n",
    "    \n",
    "    # Update layout to set background color to white, light grey grid for the y-axis, and bigger chart\n",
    "    fig.update_layout(\n",
    "        plot_bgcolor='white',  # Set background color to white\n",
    "        xaxis=dict(\n",
    "            tickmode='linear',\n",
    "            rangeslider=dict(visible=True),  # Enable the range slider for Year\n",
    "            title='Year',  # X-axis title\n",
    "        ),\n",
    "        yaxis=dict(\n",
    "            title='Total Cases',  # Y-axis title\n",
    "            gridcolor='lightgrey',  # Set a light grey grid color for the y-axis\n",
    "            tickfont=dict(size=14)  # Increase the font size of the y-axis labels\n",
    "        ),\n",
    "        hovermode='closest',  # Show closest data on hover\n",
    "        width=1000,  # Set chart width to be bigger\n",
    "        height=600,  # Set chart height to be bigger\n",
    "        title_x=0.24,  # Center title horizontally\n",
    "        title_y=0.87,  # Bring the title closer to the chart\n",
    "        legend=dict(\n",
    "            orientation='h',  # Set legend horizontally\n",
    "            yanchor='bottom',  # Place legend at the bottom\n",
    "            y=-0.2,  # Position it below the chart\n",
    "            xanchor='center',  # Center the legend\n",
    "            x=0.5,  # Center the legend horizontally\n",
    "        ),\n",
    "        updatemenus=[dict(\n",
    "            type='buttons',  # Use buttons instead of dropdown\n",
    "            x=0.5,  # Center the button horizontally\n",
    "            y=-0.6,  # Position the button below the chart\n",
    "            buttons=[dict(\n",
    "                label=\"Reset Year Filters\",\n",
    "                method=\"relayout\",\n",
    "                args=[{\n",
    "                    'xaxis.range': [df_grouped['Year'].min(), df_grouped['Year'].max()],\n",
    "                    'xaxis.rangeselector': {'visible': False}\n",
    "                }]\n",
    "            )],\n",
    "            showactive=True,\n",
    "            font=dict(size=12),  # Button text size\n",
    "            xanchor='center',  # Center the button\n",
    "            yanchor='top'\n",
    "        )]\n",
    "    )\n",
    "    \n",
    "    # Show the interactive plot\n",
    "    fig.show()\n",
    "\n",
    "# Example of how to call the function\n",
    "plot_cancer_cases_by_state_interactive(df_incidence_and_mortality_1, 'Australia', True, ['Year', 'State or Territory'], 'Incidences')\n"
   ]
  },
  {
   "cell_type": "code",
   "execution_count": 22,
   "metadata": {},
   "outputs": [
    {
     "data": {
      "application/vnd.plotly.v1+json": {
       "config": {
        "plotlyServerURL": "https://plot.ly"
       },
       "data": [
        {
         "hovertemplate": "Age group (years)=00-04<br>Year=%{x}<br>Total Cases=%{y}<extra></extra>",
         "legendgroup": "00-04",
         "line": {
          "color": "#636efa",
          "dash": "solid"
         },
         "marker": {
          "symbol": "circle"
         },
         "mode": "lines+markers",
         "name": "00-04",
         "orientation": "v",
         "showlegend": true,
         "type": "scatter",
         "x": [
          1982,
          1983,
          1984,
          1985,
          1986,
          1987,
          1988,
          1989,
          1990,
          1991,
          1992,
          1993,
          1994,
          1995,
          1996,
          1997,
          1998,
          1999,
          2000,
          2001,
          2002,
          2003,
          2004,
          2005,
          2006,
          2007,
          2008,
          2009,
          2010,
          2011,
          2012,
          2013,
          2014,
          2015,
          2016,
          2017,
          2018,
          2019,
          2020,
          2021,
          2022,
          2023,
          2024
         ],
         "xaxis": "x",
         "y": [
          0,
          2,
          2,
          0,
          2,
          4,
          0,
          2,
          4,
          2,
          2,
          0,
          0,
          2,
          4,
          2,
          2,
          2,
          0,
          4,
          4,
          2,
          0,
          2,
          0,
          0,
          2,
          2,
          4,
          2,
          2,
          4,
          2,
          0,
          6,
          4,
          0,
          4,
          2,
          0,
          0,
          4,
          6
         ],
         "yaxis": "y"
        },
        {
         "hovertemplate": "Age group (years)=05-09<br>Year=%{x}<br>Total Cases=%{y}<extra></extra>",
         "legendgroup": "05-09",
         "line": {
          "color": "#EF553B",
          "dash": "solid"
         },
         "marker": {
          "symbol": "circle"
         },
         "mode": "lines+markers",
         "name": "05-09",
         "orientation": "v",
         "showlegend": true,
         "type": "scatter",
         "x": [
          1982,
          1983,
          1984,
          1985,
          1986,
          1987,
          1988,
          1989,
          1990,
          1991,
          1992,
          1993,
          1994,
          1995,
          1996,
          1997,
          1998,
          1999,
          2000,
          2001,
          2002,
          2003,
          2004,
          2005,
          2006,
          2007,
          2008,
          2009,
          2010,
          2011,
          2012,
          2013,
          2014,
          2015,
          2016,
          2017,
          2018,
          2019,
          2020,
          2021,
          2022,
          2023,
          2024
         ],
         "xaxis": "x",
         "y": [
          4,
          4,
          2,
          2,
          4,
          2,
          4,
          2,
          6,
          4,
          4,
          2,
          2,
          4,
          12,
          4,
          4,
          8,
          2,
          10,
          8,
          4,
          0,
          6,
          0,
          2,
          4,
          4,
          4,
          6,
          0,
          6,
          0,
          2,
          0,
          0,
          2,
          4,
          2,
          0,
          2,
          2,
          4
         ],
         "yaxis": "y"
        },
        {
         "hovertemplate": "Age group (years)=10-14<br>Year=%{x}<br>Total Cases=%{y}<extra></extra>",
         "legendgroup": "10-14",
         "line": {
          "color": "#00cc96",
          "dash": "solid"
         },
         "marker": {
          "symbol": "circle"
         },
         "mode": "lines+markers",
         "name": "10-14",
         "orientation": "v",
         "showlegend": true,
         "type": "scatter",
         "x": [
          1982,
          1983,
          1984,
          1985,
          1986,
          1987,
          1988,
          1989,
          1990,
          1991,
          1992,
          1993,
          1994,
          1995,
          1996,
          1997,
          1998,
          1999,
          2000,
          2001,
          2002,
          2003,
          2004,
          2005,
          2006,
          2007,
          2008,
          2009,
          2010,
          2011,
          2012,
          2013,
          2014,
          2015,
          2016,
          2017,
          2018,
          2019,
          2020,
          2021,
          2022,
          2023,
          2024
         ],
         "xaxis": "x",
         "y": [
          22,
          20,
          16,
          22,
          26,
          24,
          18,
          38,
          20,
          46,
          30,
          48,
          24,
          24,
          52,
          34,
          24,
          18,
          20,
          28,
          26,
          20,
          18,
          14,
          16,
          14,
          10,
          26,
          10,
          14,
          10,
          14,
          4,
          4,
          12,
          10,
          12,
          12,
          12,
          10,
          12,
          14,
          14
         ],
         "yaxis": "y"
        },
        {
         "hovertemplate": "Age group (years)=15-19<br>Year=%{x}<br>Total Cases=%{y}<extra></extra>",
         "legendgroup": "15-19",
         "line": {
          "color": "#ab63fa",
          "dash": "solid"
         },
         "marker": {
          "symbol": "circle"
         },
         "mode": "lines+markers",
         "name": "15-19",
         "orientation": "v",
         "showlegend": true,
         "type": "scatter",
         "x": [
          1982,
          1983,
          1984,
          1985,
          1986,
          1987,
          1988,
          1989,
          1990,
          1991,
          1992,
          1993,
          1994,
          1995,
          1996,
          1997,
          1998,
          1999,
          2000,
          2001,
          2002,
          2003,
          2004,
          2005,
          2006,
          2007,
          2008,
          2009,
          2010,
          2011,
          2012,
          2013,
          2014,
          2015,
          2016,
          2017,
          2018,
          2019,
          2020,
          2021,
          2022,
          2023,
          2024
         ],
         "xaxis": "x",
         "y": [
          138,
          120,
          136,
          116,
          166,
          182,
          216,
          166,
          180,
          222,
          130,
          170,
          144,
          206,
          232,
          200,
          128,
          158,
          144,
          168,
          158,
          132,
          130,
          122,
          120,
          74,
          84,
          110,
          66,
          76,
          68,
          70,
          72,
          48,
          70,
          64,
          68,
          72,
          58,
          62,
          64,
          70,
          78
         ],
         "yaxis": "y"
        },
        {
         "hovertemplate": "Age group (years)=20-24<br>Year=%{x}<br>Total Cases=%{y}<extra></extra>",
         "legendgroup": "20-24",
         "line": {
          "color": "#FFA15A",
          "dash": "solid"
         },
         "marker": {
          "symbol": "circle"
         },
         "mode": "lines+markers",
         "name": "20-24",
         "orientation": "v",
         "showlegend": true,
         "type": "scatter",
         "x": [
          1982,
          1983,
          1984,
          1985,
          1986,
          1987,
          1988,
          1989,
          1990,
          1991,
          1992,
          1993,
          1994,
          1995,
          1996,
          1997,
          1998,
          1999,
          2000,
          2001,
          2002,
          2003,
          2004,
          2005,
          2006,
          2007,
          2008,
          2009,
          2010,
          2011,
          2012,
          2013,
          2014,
          2015,
          2016,
          2017,
          2018,
          2019,
          2020,
          2021,
          2022,
          2023,
          2024
         ],
         "xaxis": "x",
         "y": [
          286,
          300,
          278,
          320,
          318,
          364,
          392,
          348,
          334,
          318,
          378,
          314,
          398,
          412,
          348,
          414,
          306,
          376,
          328,
          274,
          342,
          306,
          344,
          274,
          282,
          280,
          280,
          250,
          182,
          208,
          234,
          212,
          220,
          204,
          198,
          184,
          228,
          238,
          168,
          204,
          206,
          218,
          224
         ],
         "yaxis": "y"
        },
        {
         "hovertemplate": "Age group (years)=25-29<br>Year=%{x}<br>Total Cases=%{y}<extra></extra>",
         "legendgroup": "25-29",
         "line": {
          "color": "#19d3f3",
          "dash": "solid"
         },
         "marker": {
          "symbol": "circle"
         },
         "mode": "lines+markers",
         "name": "25-29",
         "orientation": "v",
         "showlegend": true,
         "type": "scatter",
         "x": [
          1982,
          1983,
          1984,
          1985,
          1986,
          1987,
          1988,
          1989,
          1990,
          1991,
          1992,
          1993,
          1994,
          1995,
          1996,
          1997,
          1998,
          1999,
          2000,
          2001,
          2002,
          2003,
          2004,
          2005,
          2006,
          2007,
          2008,
          2009,
          2010,
          2011,
          2012,
          2013,
          2014,
          2015,
          2016,
          2017,
          2018,
          2019,
          2020,
          2021,
          2022,
          2023,
          2024
         ],
         "xaxis": "x",
         "y": [
          422,
          476,
          444,
          530,
          456,
          664,
          686,
          520,
          510,
          528,
          522,
          506,
          550,
          626,
          638,
          658,
          544,
          544,
          562,
          560,
          522,
          470,
          510,
          586,
          508,
          414,
          422,
          456,
          500,
          430,
          468,
          464,
          412,
          458,
          490,
          418,
          422,
          412,
          410,
          374,
          360,
          358,
          350
         ],
         "yaxis": "y"
        },
        {
         "hovertemplate": "Age group (years)=30-34<br>Year=%{x}<br>Total Cases=%{y}<extra></extra>",
         "legendgroup": "30-34",
         "line": {
          "color": "#FF6692",
          "dash": "solid"
         },
         "marker": {
          "symbol": "circle"
         },
         "mode": "lines+markers",
         "name": "30-34",
         "orientation": "v",
         "showlegend": true,
         "type": "scatter",
         "x": [
          1982,
          1983,
          1984,
          1985,
          1986,
          1987,
          1988,
          1989,
          1990,
          1991,
          1992,
          1993,
          1994,
          1995,
          1996,
          1997,
          1998,
          1999,
          2000,
          2001,
          2002,
          2003,
          2004,
          2005,
          2006,
          2007,
          2008,
          2009,
          2010,
          2011,
          2012,
          2013,
          2014,
          2015,
          2016,
          2017,
          2018,
          2019,
          2020,
          2021,
          2022,
          2023,
          2024
         ],
         "xaxis": "x",
         "y": [
          580,
          624,
          602,
          680,
          690,
          812,
          828,
          704,
          668,
          730,
          724,
          724,
          742,
          888,
          782,
          834,
          804,
          764,
          772,
          770,
          796,
          764,
          834,
          826,
          770,
          682,
          666,
          658,
          656,
          566,
          672,
          654,
          648,
          674,
          752,
          776,
          722,
          764,
          609,
          760,
          766,
          790,
          802
         ],
         "yaxis": "y"
        },
        {
         "hovertemplate": "Age group (years)=35-39<br>Year=%{x}<br>Total Cases=%{y}<extra></extra>",
         "legendgroup": "35-39",
         "line": {
          "color": "#B6E880",
          "dash": "solid"
         },
         "marker": {
          "symbol": "circle"
         },
         "mode": "lines+markers",
         "name": "35-39",
         "orientation": "v",
         "showlegend": true,
         "type": "scatter",
         "x": [
          1982,
          1983,
          1984,
          1985,
          1986,
          1987,
          1988,
          1989,
          1990,
          1991,
          1992,
          1993,
          1994,
          1995,
          1996,
          1997,
          1998,
          1999,
          2000,
          2001,
          2002,
          2003,
          2004,
          2005,
          2006,
          2007,
          2008,
          2009,
          2010,
          2011,
          2012,
          2013,
          2014,
          2015,
          2016,
          2017,
          2018,
          2019,
          2020,
          2021,
          2022,
          2023,
          2024
         ],
         "xaxis": "x",
         "y": [
          570,
          654,
          658,
          822,
          860,
          974,
          976,
          904,
          874,
          890,
          940,
          932,
          898,
          986,
          1028,
          1056,
          994,
          1050,
          1060,
          1040,
          970,
          1004,
          898,
          982,
          956,
          974,
          1086,
          1038,
          928,
          944,
          906,
          944,
          872,
          850,
          1002,
          942,
          1000,
          988,
          862,
          1056,
          1068,
          1088,
          1100
         ],
         "yaxis": "y"
        },
        {
         "hovertemplate": "Age group (years)=40-44<br>Year=%{x}<br>Total Cases=%{y}<extra></extra>",
         "legendgroup": "40-44",
         "line": {
          "color": "#FF97FF",
          "dash": "solid"
         },
         "marker": {
          "symbol": "circle"
         },
         "mode": "lines+markers",
         "name": "40-44",
         "orientation": "v",
         "showlegend": true,
         "type": "scatter",
         "x": [
          1982,
          1983,
          1984,
          1985,
          1986,
          1987,
          1988,
          1989,
          1990,
          1991,
          1992,
          1993,
          1994,
          1995,
          1996,
          1997,
          1998,
          1999,
          2000,
          2001,
          2002,
          2003,
          2004,
          2005,
          2006,
          2007,
          2008,
          2009,
          2010,
          2011,
          2012,
          2013,
          2014,
          2015,
          2016,
          2017,
          2018,
          2019,
          2020,
          2021,
          2022,
          2023,
          2024
         ],
         "xaxis": "x",
         "y": [
          598,
          598,
          646,
          758,
          790,
          1004,
          1058,
          1042,
          1044,
          1028,
          1072,
          1086,
          1138,
          1186,
          1200,
          1262,
          1134,
          1192,
          1282,
          1320,
          1432,
          1310,
          1198,
          1394,
          1248,
          1168,
          1274,
          1244,
          1250,
          1276,
          1328,
          1356,
          1430,
          1384,
          1404,
          1360,
          1342,
          1290,
          1245,
          1414,
          1454,
          1528,
          1598
         ],
         "yaxis": "y"
        },
        {
         "hovertemplate": "Age group (years)=45-49<br>Year=%{x}<br>Total Cases=%{y}<extra></extra>",
         "legendgroup": "45-49",
         "line": {
          "color": "#FECB52",
          "dash": "solid"
         },
         "marker": {
          "symbol": "circle"
         },
         "mode": "lines+markers",
         "name": "45-49",
         "orientation": "v",
         "showlegend": true,
         "type": "scatter",
         "x": [
          1982,
          1983,
          1984,
          1985,
          1986,
          1987,
          1988,
          1989,
          1990,
          1991,
          1992,
          1993,
          1994,
          1995,
          1996,
          1997,
          1998,
          1999,
          2000,
          2001,
          2002,
          2003,
          2004,
          2005,
          2006,
          2007,
          2008,
          2009,
          2010,
          2011,
          2012,
          2013,
          2014,
          2015,
          2016,
          2017,
          2018,
          2019,
          2020,
          2021,
          2022,
          2023,
          2024
         ],
         "xaxis": "x",
         "y": [
          582,
          620,
          646,
          664,
          752,
          832,
          1020,
          954,
          972,
          976,
          1128,
          1162,
          1304,
          1324,
          1416,
          1544,
          1436,
          1574,
          1518,
          1538,
          1684,
          1570,
          1602,
          1780,
          1592,
          1686,
          1660,
          1628,
          1554,
          1586,
          1582,
          1640,
          1714,
          1768,
          1898,
          1914,
          1956,
          1922,
          1712,
          2028,
          2030,
          2050,
          2098
         ],
         "yaxis": "y"
        },
        {
         "hovertemplate": "Age group (years)=50-54<br>Year=%{x}<br>Total Cases=%{y}<extra></extra>",
         "legendgroup": "50-54",
         "line": {
          "color": "#636efa",
          "dash": "solid"
         },
         "marker": {
          "symbol": "circle"
         },
         "mode": "lines+markers",
         "name": "50-54",
         "orientation": "v",
         "showlegend": true,
         "type": "scatter",
         "x": [
          1982,
          1983,
          1984,
          1985,
          1986,
          1987,
          1988,
          1989,
          1990,
          1991,
          1992,
          1993,
          1994,
          1995,
          1996,
          1997,
          1998,
          1999,
          2000,
          2001,
          2002,
          2003,
          2004,
          2005,
          2006,
          2007,
          2008,
          2009,
          2010,
          2011,
          2012,
          2013,
          2014,
          2015,
          2016,
          2017,
          2018,
          2019,
          2020,
          2021,
          2022,
          2023,
          2024
         ],
         "xaxis": "x",
         "y": [
          624,
          642,
          702,
          766,
          764,
          844,
          938,
          848,
          958,
          956,
          1040,
          1136,
          1248,
          1258,
          1440,
          1704,
          1646,
          1646,
          1684,
          1906,
          1990,
          1946,
          1874,
          1966,
          1836,
          1922,
          2088,
          1984,
          2026,
          1918,
          2166,
          2214,
          2342,
          2270,
          2248,
          2330,
          2340,
          2334,
          2158,
          2546,
          2640,
          2716,
          2772
         ],
         "yaxis": "y"
        },
        {
         "hovertemplate": "Age group (years)=55-59<br>Year=%{x}<br>Total Cases=%{y}<extra></extra>",
         "legendgroup": "55-59",
         "line": {
          "color": "#EF553B",
          "dash": "solid"
         },
         "marker": {
          "symbol": "circle"
         },
         "mode": "lines+markers",
         "name": "55-59",
         "orientation": "v",
         "showlegend": true,
         "type": "scatter",
         "x": [
          1982,
          1983,
          1984,
          1985,
          1986,
          1987,
          1988,
          1989,
          1990,
          1991,
          1992,
          1993,
          1994,
          1995,
          1996,
          1997,
          1998,
          1999,
          2000,
          2001,
          2002,
          2003,
          2004,
          2005,
          2006,
          2007,
          2008,
          2009,
          2010,
          2011,
          2012,
          2013,
          2014,
          2015,
          2016,
          2017,
          2018,
          2019,
          2020,
          2021,
          2022,
          2023,
          2024
         ],
         "xaxis": "x",
         "y": [
          730,
          750,
          838,
          868,
          898,
          1054,
          1078,
          934,
          942,
          994,
          1072,
          1024,
          1140,
          1256,
          1258,
          1442,
          1470,
          1498,
          1600,
          1778,
          2096,
          2268,
          2250,
          2400,
          2334,
          2346,
          2418,
          2386,
          2350,
          2380,
          2486,
          2502,
          2454,
          2636,
          2902,
          3136,
          3014,
          2978,
          2796,
          3162,
          3168,
          3182,
          3256
         ],
         "yaxis": "y"
        },
        {
         "hovertemplate": "Age group (years)=60-64<br>Year=%{x}<br>Total Cases=%{y}<extra></extra>",
         "legendgroup": "60-64",
         "line": {
          "color": "#00cc96",
          "dash": "solid"
         },
         "marker": {
          "symbol": "circle"
         },
         "mode": "lines+markers",
         "name": "60-64",
         "orientation": "v",
         "showlegend": true,
         "type": "scatter",
         "x": [
          1982,
          1983,
          1984,
          1985,
          1986,
          1987,
          1988,
          1989,
          1990,
          1991,
          1992,
          1993,
          1994,
          1995,
          1996,
          1997,
          1998,
          1999,
          2000,
          2001,
          2002,
          2003,
          2004,
          2005,
          2006,
          2007,
          2008,
          2009,
          2010,
          2011,
          2012,
          2013,
          2014,
          2015,
          2016,
          2017,
          2018,
          2019,
          2020,
          2021,
          2022,
          2023,
          2024
         ],
         "xaxis": "x",
         "y": [
          670,
          756,
          818,
          916,
          968,
          1156,
          1172,
          1266,
          1194,
          1164,
          1404,
          1354,
          1274,
          1348,
          1364,
          1402,
          1448,
          1466,
          1540,
          1644,
          2072,
          1810,
          2088,
          2268,
          2162,
          2434,
          2662,
          2732,
          2894,
          3130,
          3002,
          3078,
          3058,
          3272,
          3412,
          3372,
          3524,
          3686,
          3304,
          3894,
          3994,
          4100,
          4196
         ],
         "yaxis": "y"
        },
        {
         "hovertemplate": "Age group (years)=65-69<br>Year=%{x}<br>Total Cases=%{y}<extra></extra>",
         "legendgroup": "65-69",
         "line": {
          "color": "#ab63fa",
          "dash": "solid"
         },
         "marker": {
          "symbol": "circle"
         },
         "mode": "lines+markers",
         "name": "65-69",
         "orientation": "v",
         "showlegend": true,
         "type": "scatter",
         "x": [
          1982,
          1983,
          1984,
          1985,
          1986,
          1987,
          1988,
          1989,
          1990,
          1991,
          1992,
          1993,
          1994,
          1995,
          1996,
          1997,
          1998,
          1999,
          2000,
          2001,
          2002,
          2003,
          2004,
          2005,
          2006,
          2007,
          2008,
          2009,
          2010,
          2011,
          2012,
          2013,
          2014,
          2015,
          2016,
          2017,
          2018,
          2019,
          2020,
          2021,
          2022,
          2023,
          2024
         ],
         "xaxis": "x",
         "y": [
          680,
          750,
          756,
          852,
          918,
          1042,
          1200,
          1234,
          1182,
          1200,
          1468,
          1514,
          1474,
          1566,
          1568,
          1700,
          1558,
          1568,
          1588,
          1806,
          1838,
          1862,
          2082,
          2306,
          2250,
          2228,
          2480,
          2460,
          2788,
          2934,
          3200,
          3512,
          3752,
          3892,
          4186,
          4144,
          3988,
          4222,
          4034,
          4582,
          4718,
          4874,
          5076
         ],
         "yaxis": "y"
        },
        {
         "hovertemplate": "Age group (years)=70-74<br>Year=%{x}<br>Total Cases=%{y}<extra></extra>",
         "legendgroup": "70-74",
         "line": {
          "color": "#FFA15A",
          "dash": "solid"
         },
         "marker": {
          "symbol": "circle"
         },
         "mode": "lines+markers",
         "name": "70-74",
         "orientation": "v",
         "showlegend": true,
         "type": "scatter",
         "x": [
          1982,
          1983,
          1984,
          1985,
          1986,
          1987,
          1988,
          1989,
          1990,
          1991,
          1992,
          1993,
          1994,
          1995,
          1996,
          1997,
          1998,
          1999,
          2000,
          2001,
          2002,
          2003,
          2004,
          2005,
          2006,
          2007,
          2008,
          2009,
          2010,
          2011,
          2012,
          2013,
          2014,
          2015,
          2016,
          2017,
          2018,
          2019,
          2020,
          2021,
          2022,
          2023,
          2024
         ],
         "xaxis": "x",
         "y": [
          514,
          576,
          658,
          740,
          774,
          916,
          988,
          956,
          1118,
          1064,
          1172,
          1408,
          1366,
          1482,
          1628,
          1824,
          1558,
          1762,
          1896,
          2012,
          2274,
          2064,
          1964,
          2176,
          2242,
          2206,
          2258,
          2590,
          2544,
          2776,
          2848,
          3054,
          3132,
          3554,
          3754,
          4382,
          4265,
          4722,
          4618,
          5352,
          5448,
          5602,
          5804
         ],
         "yaxis": "y"
        },
        {
         "hovertemplate": "Age group (years)=75-79<br>Year=%{x}<br>Total Cases=%{y}<extra></extra>",
         "legendgroup": "75-79",
         "line": {
          "color": "#19d3f3",
          "dash": "solid"
         },
         "marker": {
          "symbol": "circle"
         },
         "mode": "lines+markers",
         "name": "75-79",
         "orientation": "v",
         "showlegend": true,
         "type": "scatter",
         "x": [
          1982,
          1983,
          1984,
          1985,
          1986,
          1987,
          1988,
          1989,
          1990,
          1991,
          1992,
          1993,
          1994,
          1995,
          1996,
          1997,
          1998,
          1999,
          2000,
          2001,
          2002,
          2003,
          2004,
          2005,
          2006,
          2007,
          2008,
          2009,
          2010,
          2011,
          2012,
          2013,
          2014,
          2015,
          2016,
          2017,
          2018,
          2019,
          2020,
          2021,
          2022,
          2023,
          2024
         ],
         "xaxis": "x",
         "y": [
          344,
          382,
          440,
          476,
          528,
          644,
          750,
          778,
          878,
          924,
          1058,
          1052,
          1032,
          1110,
          1260,
          1392,
          1452,
          1496,
          1656,
          1932,
          1942,
          2082,
          2114,
          2380,
          2424,
          2206,
          2250,
          2436,
          2410,
          2198,
          2520,
          2732,
          2882,
          3172,
          3202,
          3396,
          3524,
          3924,
          3847,
          4532,
          5012,
          5462,
          5832
         ],
         "yaxis": "y"
        },
        {
         "hovertemplate": "Age group (years)=80-84<br>Year=%{x}<br>Total Cases=%{y}<extra></extra>",
         "legendgroup": "80-84",
         "line": {
          "color": "#FF6692",
          "dash": "solid"
         },
         "marker": {
          "symbol": "circle"
         },
         "mode": "lines+markers",
         "name": "80-84",
         "orientation": "v",
         "showlegend": true,
         "type": "scatter",
         "x": [
          1982,
          1983,
          1984,
          1985,
          1986,
          1987,
          1988,
          1989,
          1990,
          1991,
          1992,
          1993,
          1994,
          1995,
          1996,
          1997,
          1998,
          1999,
          2000,
          2001,
          2002,
          2003,
          2004,
          2005,
          2006,
          2007,
          2008,
          2009,
          2010,
          2011,
          2012,
          2013,
          2014,
          2015,
          2016,
          2017,
          2018,
          2019,
          2020,
          2021,
          2022,
          2023,
          2024
         ],
         "xaxis": "x",
         "y": [
          194,
          186,
          268,
          278,
          316,
          382,
          400,
          472,
          468,
          572,
          610,
          672,
          708,
          760,
          852,
          840,
          848,
          996,
          1002,
          1226,
          1462,
          1490,
          1686,
          1874,
          1778,
          1952,
          2148,
          2096,
          2234,
          2174,
          2122,
          2474,
          2466,
          2364,
          2514,
          2740,
          2704,
          3012,
          2966,
          3320,
          3514,
          3678,
          3922
         ],
         "yaxis": "y"
        },
        {
         "hovertemplate": "Age group (years)=85-89<br>Year=%{x}<br>Total Cases=%{y}<extra></extra>",
         "legendgroup": "85-89",
         "line": {
          "color": "#B6E880",
          "dash": "solid"
         },
         "marker": {
          "symbol": "circle"
         },
         "mode": "lines+markers",
         "name": "85-89",
         "orientation": "v",
         "showlegend": true,
         "type": "scatter",
         "x": [
          1982,
          1983,
          1984,
          1985,
          1986,
          1987,
          1988,
          1989,
          1990,
          1991,
          1992,
          1993,
          1994,
          1995,
          1996,
          1997,
          1998,
          1999,
          2000,
          2001,
          2002,
          2003,
          2004,
          2005,
          2006,
          2007,
          2008,
          2009,
          2010,
          2011,
          2012,
          2013,
          2014,
          2015,
          2016,
          2017,
          2018,
          2019,
          2020,
          2021,
          2022,
          2023,
          2024
         ],
         "xaxis": "x",
         "y": [
          74,
          90,
          108,
          132,
          116,
          160,
          238,
          178,
          226,
          236,
          252,
          294,
          338,
          390,
          434,
          426,
          486,
          466,
          536,
          704,
          832,
          846,
          866,
          966,
          1024,
          1098,
          1224,
          1366,
          1370,
          1392,
          1584,
          1620,
          1718,
          1812,
          1948,
          1928,
          1960,
          2018,
          1916,
          2218,
          2344,
          2472,
          2634
         ],
         "yaxis": "y"
        },
        {
         "hovertemplate": "Age group (years)=90+<br>Year=%{x}<br>Total Cases=%{y}<extra></extra>",
         "legendgroup": "90+",
         "line": {
          "color": "#FF97FF",
          "dash": "solid"
         },
         "marker": {
          "symbol": "circle"
         },
         "mode": "lines+markers",
         "name": "90+",
         "orientation": "v",
         "showlegend": true,
         "type": "scatter",
         "x": [
          1982,
          1983,
          1984,
          1985,
          1986,
          1987,
          1988,
          1989,
          1990,
          1991,
          1992,
          1993,
          1994,
          1995,
          1996,
          1997,
          1998,
          1999,
          2000,
          2001,
          2002,
          2003,
          2004,
          2005,
          2006,
          2007,
          2008,
          2009,
          2010,
          2011,
          2012,
          2013,
          2014,
          2015,
          2016,
          2017,
          2018,
          2019,
          2020,
          2021,
          2022,
          2023,
          2024
         ],
         "xaxis": "x",
         "y": [
          38,
          44,
          60,
          62,
          72,
          54,
          68,
          86,
          92,
          76,
          120,
          138,
          104,
          114,
          158,
          144,
          150,
          206,
          240,
          274,
          306,
          318,
          402,
          470,
          532,
          498,
          540,
          532,
          626,
          644,
          796,
          874,
          910,
          932,
          1016,
          1086,
          1168,
          1152,
          1326,
          1360,
          1400,
          1434,
          1490
         ],
         "yaxis": "y"
        }
       ],
       "layout": {
        "height": 600,
        "hovermode": "closest",
        "legend": {
         "title": {
          "text": "Age group (years)"
         },
         "tracegroupgap": 0
        },
        "plot_bgcolor": "white",
        "template": {
         "data": {
          "bar": [
           {
            "error_x": {
             "color": "#2a3f5f"
            },
            "error_y": {
             "color": "#2a3f5f"
            },
            "marker": {
             "line": {
              "color": "#E5ECF6",
              "width": 0.5
             },
             "pattern": {
              "fillmode": "overlay",
              "size": 10,
              "solidity": 0.2
             }
            },
            "type": "bar"
           }
          ],
          "barpolar": [
           {
            "marker": {
             "line": {
              "color": "#E5ECF6",
              "width": 0.5
             },
             "pattern": {
              "fillmode": "overlay",
              "size": 10,
              "solidity": 0.2
             }
            },
            "type": "barpolar"
           }
          ],
          "carpet": [
           {
            "aaxis": {
             "endlinecolor": "#2a3f5f",
             "gridcolor": "white",
             "linecolor": "white",
             "minorgridcolor": "white",
             "startlinecolor": "#2a3f5f"
            },
            "baxis": {
             "endlinecolor": "#2a3f5f",
             "gridcolor": "white",
             "linecolor": "white",
             "minorgridcolor": "white",
             "startlinecolor": "#2a3f5f"
            },
            "type": "carpet"
           }
          ],
          "choropleth": [
           {
            "colorbar": {
             "outlinewidth": 0,
             "ticks": ""
            },
            "type": "choropleth"
           }
          ],
          "contour": [
           {
            "colorbar": {
             "outlinewidth": 0,
             "ticks": ""
            },
            "colorscale": [
             [
              0,
              "#0d0887"
             ],
             [
              0.1111111111111111,
              "#46039f"
             ],
             [
              0.2222222222222222,
              "#7201a8"
             ],
             [
              0.3333333333333333,
              "#9c179e"
             ],
             [
              0.4444444444444444,
              "#bd3786"
             ],
             [
              0.5555555555555556,
              "#d8576b"
             ],
             [
              0.6666666666666666,
              "#ed7953"
             ],
             [
              0.7777777777777778,
              "#fb9f3a"
             ],
             [
              0.8888888888888888,
              "#fdca26"
             ],
             [
              1,
              "#f0f921"
             ]
            ],
            "type": "contour"
           }
          ],
          "contourcarpet": [
           {
            "colorbar": {
             "outlinewidth": 0,
             "ticks": ""
            },
            "type": "contourcarpet"
           }
          ],
          "heatmap": [
           {
            "colorbar": {
             "outlinewidth": 0,
             "ticks": ""
            },
            "colorscale": [
             [
              0,
              "#0d0887"
             ],
             [
              0.1111111111111111,
              "#46039f"
             ],
             [
              0.2222222222222222,
              "#7201a8"
             ],
             [
              0.3333333333333333,
              "#9c179e"
             ],
             [
              0.4444444444444444,
              "#bd3786"
             ],
             [
              0.5555555555555556,
              "#d8576b"
             ],
             [
              0.6666666666666666,
              "#ed7953"
             ],
             [
              0.7777777777777778,
              "#fb9f3a"
             ],
             [
              0.8888888888888888,
              "#fdca26"
             ],
             [
              1,
              "#f0f921"
             ]
            ],
            "type": "heatmap"
           }
          ],
          "heatmapgl": [
           {
            "colorbar": {
             "outlinewidth": 0,
             "ticks": ""
            },
            "colorscale": [
             [
              0,
              "#0d0887"
             ],
             [
              0.1111111111111111,
              "#46039f"
             ],
             [
              0.2222222222222222,
              "#7201a8"
             ],
             [
              0.3333333333333333,
              "#9c179e"
             ],
             [
              0.4444444444444444,
              "#bd3786"
             ],
             [
              0.5555555555555556,
              "#d8576b"
             ],
             [
              0.6666666666666666,
              "#ed7953"
             ],
             [
              0.7777777777777778,
              "#fb9f3a"
             ],
             [
              0.8888888888888888,
              "#fdca26"
             ],
             [
              1,
              "#f0f921"
             ]
            ],
            "type": "heatmapgl"
           }
          ],
          "histogram": [
           {
            "marker": {
             "pattern": {
              "fillmode": "overlay",
              "size": 10,
              "solidity": 0.2
             }
            },
            "type": "histogram"
           }
          ],
          "histogram2d": [
           {
            "colorbar": {
             "outlinewidth": 0,
             "ticks": ""
            },
            "colorscale": [
             [
              0,
              "#0d0887"
             ],
             [
              0.1111111111111111,
              "#46039f"
             ],
             [
              0.2222222222222222,
              "#7201a8"
             ],
             [
              0.3333333333333333,
              "#9c179e"
             ],
             [
              0.4444444444444444,
              "#bd3786"
             ],
             [
              0.5555555555555556,
              "#d8576b"
             ],
             [
              0.6666666666666666,
              "#ed7953"
             ],
             [
              0.7777777777777778,
              "#fb9f3a"
             ],
             [
              0.8888888888888888,
              "#fdca26"
             ],
             [
              1,
              "#f0f921"
             ]
            ],
            "type": "histogram2d"
           }
          ],
          "histogram2dcontour": [
           {
            "colorbar": {
             "outlinewidth": 0,
             "ticks": ""
            },
            "colorscale": [
             [
              0,
              "#0d0887"
             ],
             [
              0.1111111111111111,
              "#46039f"
             ],
             [
              0.2222222222222222,
              "#7201a8"
             ],
             [
              0.3333333333333333,
              "#9c179e"
             ],
             [
              0.4444444444444444,
              "#bd3786"
             ],
             [
              0.5555555555555556,
              "#d8576b"
             ],
             [
              0.6666666666666666,
              "#ed7953"
             ],
             [
              0.7777777777777778,
              "#fb9f3a"
             ],
             [
              0.8888888888888888,
              "#fdca26"
             ],
             [
              1,
              "#f0f921"
             ]
            ],
            "type": "histogram2dcontour"
           }
          ],
          "mesh3d": [
           {
            "colorbar": {
             "outlinewidth": 0,
             "ticks": ""
            },
            "type": "mesh3d"
           }
          ],
          "parcoords": [
           {
            "line": {
             "colorbar": {
              "outlinewidth": 0,
              "ticks": ""
             }
            },
            "type": "parcoords"
           }
          ],
          "pie": [
           {
            "automargin": true,
            "type": "pie"
           }
          ],
          "scatter": [
           {
            "fillpattern": {
             "fillmode": "overlay",
             "size": 10,
             "solidity": 0.2
            },
            "type": "scatter"
           }
          ],
          "scatter3d": [
           {
            "line": {
             "colorbar": {
              "outlinewidth": 0,
              "ticks": ""
             }
            },
            "marker": {
             "colorbar": {
              "outlinewidth": 0,
              "ticks": ""
             }
            },
            "type": "scatter3d"
           }
          ],
          "scattercarpet": [
           {
            "marker": {
             "colorbar": {
              "outlinewidth": 0,
              "ticks": ""
             }
            },
            "type": "scattercarpet"
           }
          ],
          "scattergeo": [
           {
            "marker": {
             "colorbar": {
              "outlinewidth": 0,
              "ticks": ""
             }
            },
            "type": "scattergeo"
           }
          ],
          "scattergl": [
           {
            "marker": {
             "colorbar": {
              "outlinewidth": 0,
              "ticks": ""
             }
            },
            "type": "scattergl"
           }
          ],
          "scattermapbox": [
           {
            "marker": {
             "colorbar": {
              "outlinewidth": 0,
              "ticks": ""
             }
            },
            "type": "scattermapbox"
           }
          ],
          "scatterpolar": [
           {
            "marker": {
             "colorbar": {
              "outlinewidth": 0,
              "ticks": ""
             }
            },
            "type": "scatterpolar"
           }
          ],
          "scatterpolargl": [
           {
            "marker": {
             "colorbar": {
              "outlinewidth": 0,
              "ticks": ""
             }
            },
            "type": "scatterpolargl"
           }
          ],
          "scatterternary": [
           {
            "marker": {
             "colorbar": {
              "outlinewidth": 0,
              "ticks": ""
             }
            },
            "type": "scatterternary"
           }
          ],
          "surface": [
           {
            "colorbar": {
             "outlinewidth": 0,
             "ticks": ""
            },
            "colorscale": [
             [
              0,
              "#0d0887"
             ],
             [
              0.1111111111111111,
              "#46039f"
             ],
             [
              0.2222222222222222,
              "#7201a8"
             ],
             [
              0.3333333333333333,
              "#9c179e"
             ],
             [
              0.4444444444444444,
              "#bd3786"
             ],
             [
              0.5555555555555556,
              "#d8576b"
             ],
             [
              0.6666666666666666,
              "#ed7953"
             ],
             [
              0.7777777777777778,
              "#fb9f3a"
             ],
             [
              0.8888888888888888,
              "#fdca26"
             ],
             [
              1,
              "#f0f921"
             ]
            ],
            "type": "surface"
           }
          ],
          "table": [
           {
            "cells": {
             "fill": {
              "color": "#EBF0F8"
             },
             "line": {
              "color": "white"
             }
            },
            "header": {
             "fill": {
              "color": "#C8D4E3"
             },
             "line": {
              "color": "white"
             }
            },
            "type": "table"
           }
          ]
         },
         "layout": {
          "annotationdefaults": {
           "arrowcolor": "#2a3f5f",
           "arrowhead": 0,
           "arrowwidth": 1
          },
          "autotypenumbers": "strict",
          "coloraxis": {
           "colorbar": {
            "outlinewidth": 0,
            "ticks": ""
           }
          },
          "colorscale": {
           "diverging": [
            [
             0,
             "#8e0152"
            ],
            [
             0.1,
             "#c51b7d"
            ],
            [
             0.2,
             "#de77ae"
            ],
            [
             0.3,
             "#f1b6da"
            ],
            [
             0.4,
             "#fde0ef"
            ],
            [
             0.5,
             "#f7f7f7"
            ],
            [
             0.6,
             "#e6f5d0"
            ],
            [
             0.7,
             "#b8e186"
            ],
            [
             0.8,
             "#7fbc41"
            ],
            [
             0.9,
             "#4d9221"
            ],
            [
             1,
             "#276419"
            ]
           ],
           "sequential": [
            [
             0,
             "#0d0887"
            ],
            [
             0.1111111111111111,
             "#46039f"
            ],
            [
             0.2222222222222222,
             "#7201a8"
            ],
            [
             0.3333333333333333,
             "#9c179e"
            ],
            [
             0.4444444444444444,
             "#bd3786"
            ],
            [
             0.5555555555555556,
             "#d8576b"
            ],
            [
             0.6666666666666666,
             "#ed7953"
            ],
            [
             0.7777777777777778,
             "#fb9f3a"
            ],
            [
             0.8888888888888888,
             "#fdca26"
            ],
            [
             1,
             "#f0f921"
            ]
           ],
           "sequentialminus": [
            [
             0,
             "#0d0887"
            ],
            [
             0.1111111111111111,
             "#46039f"
            ],
            [
             0.2222222222222222,
             "#7201a8"
            ],
            [
             0.3333333333333333,
             "#9c179e"
            ],
            [
             0.4444444444444444,
             "#bd3786"
            ],
            [
             0.5555555555555556,
             "#d8576b"
            ],
            [
             0.6666666666666666,
             "#ed7953"
            ],
            [
             0.7777777777777778,
             "#fb9f3a"
            ],
            [
             0.8888888888888888,
             "#fdca26"
            ],
            [
             1,
             "#f0f921"
            ]
           ]
          },
          "colorway": [
           "#636efa",
           "#EF553B",
           "#00cc96",
           "#ab63fa",
           "#FFA15A",
           "#19d3f3",
           "#FF6692",
           "#B6E880",
           "#FF97FF",
           "#FECB52"
          ],
          "font": {
           "color": "#2a3f5f"
          },
          "geo": {
           "bgcolor": "white",
           "lakecolor": "white",
           "landcolor": "#E5ECF6",
           "showlakes": true,
           "showland": true,
           "subunitcolor": "white"
          },
          "hoverlabel": {
           "align": "left"
          },
          "hovermode": "closest",
          "mapbox": {
           "style": "light"
          },
          "paper_bgcolor": "white",
          "plot_bgcolor": "#E5ECF6",
          "polar": {
           "angularaxis": {
            "gridcolor": "white",
            "linecolor": "white",
            "ticks": ""
           },
           "bgcolor": "#E5ECF6",
           "radialaxis": {
            "gridcolor": "white",
            "linecolor": "white",
            "ticks": ""
           }
          },
          "scene": {
           "xaxis": {
            "backgroundcolor": "#E5ECF6",
            "gridcolor": "white",
            "gridwidth": 2,
            "linecolor": "white",
            "showbackground": true,
            "ticks": "",
            "zerolinecolor": "white"
           },
           "yaxis": {
            "backgroundcolor": "#E5ECF6",
            "gridcolor": "white",
            "gridwidth": 2,
            "linecolor": "white",
            "showbackground": true,
            "ticks": "",
            "zerolinecolor": "white"
           },
           "zaxis": {
            "backgroundcolor": "#E5ECF6",
            "gridcolor": "white",
            "gridwidth": 2,
            "linecolor": "white",
            "showbackground": true,
            "ticks": "",
            "zerolinecolor": "white"
           }
          },
          "shapedefaults": {
           "line": {
            "color": "#2a3f5f"
           }
          },
          "ternary": {
           "aaxis": {
            "gridcolor": "white",
            "linecolor": "white",
            "ticks": ""
           },
           "baxis": {
            "gridcolor": "white",
            "linecolor": "white",
            "ticks": ""
           },
           "bgcolor": "#E5ECF6",
           "caxis": {
            "gridcolor": "white",
            "linecolor": "white",
            "ticks": ""
           }
          },
          "title": {
           "x": 0.05
          },
          "xaxis": {
           "automargin": true,
           "gridcolor": "white",
           "linecolor": "white",
           "ticks": "",
           "title": {
            "standoff": 15
           },
           "zerolinecolor": "white",
           "zerolinewidth": 2
          },
          "yaxis": {
           "automargin": true,
           "gridcolor": "white",
           "linecolor": "white",
           "ticks": "",
           "title": {
            "standoff": 15
           },
           "zerolinecolor": "white",
           "zerolinewidth": 2
          }
         }
        },
        "title": {
         "text": "Total Skin Cancer Incidences Over Years by Age Group",
         "x": 0.24,
         "y": 0.87
        },
        "updatemenus": [
         {
          "buttons": [
           {
            "args": [
             {
              "xaxis.range": [
               1982,
               2024
              ],
              "xaxis.rangeselector": {
               "visible": false
              }
             }
            ],
            "label": "Reset Year Filters",
            "method": "relayout"
           }
          ],
          "font": {
           "size": 12
          },
          "showactive": true,
          "type": "buttons",
          "x": 0.5,
          "xanchor": "center",
          "y": -0.6,
          "yanchor": "top"
         }
        ],
        "width": 1000,
        "xaxis": {
         "anchor": "y",
         "domain": [
          0,
          1
         ],
         "rangeslider": {
          "visible": true
         },
         "tickmode": "linear",
         "title": {
          "text": "Year"
         }
        },
        "yaxis": {
         "anchor": "x",
         "domain": [
          0,
          1
         ],
         "gridcolor": "lightgrey",
         "tickfont": {
          "size": 14
         },
         "title": {
          "text": "Total Cases"
         }
        }
       }
      },
      "text/html": [
       "<div>                            <div id=\"655510ea-f35b-4f55-97ac-c6600255121a\" class=\"plotly-graph-div\" style=\"height:600px; width:1000px;\"></div>            <script type=\"text/javascript\">                require([\"plotly\"], function(Plotly) {                    window.PLOTLYENV=window.PLOTLYENV || {};                                    if (document.getElementById(\"655510ea-f35b-4f55-97ac-c6600255121a\")) {                    Plotly.newPlot(                        \"655510ea-f35b-4f55-97ac-c6600255121a\",                        [{\"hovertemplate\":\"Age group (years)=00-04<br>Year=%{x}<br>Total Cases=%{y}<extra></extra>\",\"legendgroup\":\"00-04\",\"line\":{\"color\":\"#636efa\",\"dash\":\"solid\"},\"marker\":{\"symbol\":\"circle\"},\"mode\":\"lines+markers\",\"name\":\"00-04\",\"orientation\":\"v\",\"showlegend\":true,\"x\":[1982.0,1983.0,1984.0,1985.0,1986.0,1987.0,1988.0,1989.0,1990.0,1991.0,1992.0,1993.0,1994.0,1995.0,1996.0,1997.0,1998.0,1999.0,2000.0,2001.0,2002.0,2003.0,2004.0,2005.0,2006.0,2007.0,2008.0,2009.0,2010.0,2011.0,2012.0,2013.0,2014.0,2015.0,2016.0,2017.0,2018.0,2019.0,2020.0,2021.0,2022.0,2023.0,2024.0],\"xaxis\":\"x\",\"y\":[0.0,2.0,2.0,0.0,2.0,4.0,0.0,2.0,4.0,2.0,2.0,0.0,0.0,2.0,4.0,2.0,2.0,2.0,0.0,4.0,4.0,2.0,0.0,2.0,0.0,0.0,2.0,2.0,4.0,2.0,2.0,4.0,2.0,0.0,6.0,4.0,0.0,4.0,2.0,0.0,0.0,4.0,6.0],\"yaxis\":\"y\",\"type\":\"scatter\"},{\"hovertemplate\":\"Age group (years)=05-09<br>Year=%{x}<br>Total Cases=%{y}<extra></extra>\",\"legendgroup\":\"05-09\",\"line\":{\"color\":\"#EF553B\",\"dash\":\"solid\"},\"marker\":{\"symbol\":\"circle\"},\"mode\":\"lines+markers\",\"name\":\"05-09\",\"orientation\":\"v\",\"showlegend\":true,\"x\":[1982.0,1983.0,1984.0,1985.0,1986.0,1987.0,1988.0,1989.0,1990.0,1991.0,1992.0,1993.0,1994.0,1995.0,1996.0,1997.0,1998.0,1999.0,2000.0,2001.0,2002.0,2003.0,2004.0,2005.0,2006.0,2007.0,2008.0,2009.0,2010.0,2011.0,2012.0,2013.0,2014.0,2015.0,2016.0,2017.0,2018.0,2019.0,2020.0,2021.0,2022.0,2023.0,2024.0],\"xaxis\":\"x\",\"y\":[4.0,4.0,2.0,2.0,4.0,2.0,4.0,2.0,6.0,4.0,4.0,2.0,2.0,4.0,12.0,4.0,4.0,8.0,2.0,10.0,8.0,4.0,0.0,6.0,0.0,2.0,4.0,4.0,4.0,6.0,0.0,6.0,0.0,2.0,0.0,0.0,2.0,4.0,2.0,0.0,2.0,2.0,4.0],\"yaxis\":\"y\",\"type\":\"scatter\"},{\"hovertemplate\":\"Age group (years)=10-14<br>Year=%{x}<br>Total Cases=%{y}<extra></extra>\",\"legendgroup\":\"10-14\",\"line\":{\"color\":\"#00cc96\",\"dash\":\"solid\"},\"marker\":{\"symbol\":\"circle\"},\"mode\":\"lines+markers\",\"name\":\"10-14\",\"orientation\":\"v\",\"showlegend\":true,\"x\":[1982.0,1983.0,1984.0,1985.0,1986.0,1987.0,1988.0,1989.0,1990.0,1991.0,1992.0,1993.0,1994.0,1995.0,1996.0,1997.0,1998.0,1999.0,2000.0,2001.0,2002.0,2003.0,2004.0,2005.0,2006.0,2007.0,2008.0,2009.0,2010.0,2011.0,2012.0,2013.0,2014.0,2015.0,2016.0,2017.0,2018.0,2019.0,2020.0,2021.0,2022.0,2023.0,2024.0],\"xaxis\":\"x\",\"y\":[22.0,20.0,16.0,22.0,26.0,24.0,18.0,38.0,20.0,46.0,30.0,48.0,24.0,24.0,52.0,34.0,24.0,18.0,20.0,28.0,26.0,20.0,18.0,14.0,16.0,14.0,10.0,26.0,10.0,14.0,10.0,14.0,4.0,4.0,12.0,10.0,12.0,12.0,12.0,10.0,12.0,14.0,14.0],\"yaxis\":\"y\",\"type\":\"scatter\"},{\"hovertemplate\":\"Age group (years)=15-19<br>Year=%{x}<br>Total Cases=%{y}<extra></extra>\",\"legendgroup\":\"15-19\",\"line\":{\"color\":\"#ab63fa\",\"dash\":\"solid\"},\"marker\":{\"symbol\":\"circle\"},\"mode\":\"lines+markers\",\"name\":\"15-19\",\"orientation\":\"v\",\"showlegend\":true,\"x\":[1982.0,1983.0,1984.0,1985.0,1986.0,1987.0,1988.0,1989.0,1990.0,1991.0,1992.0,1993.0,1994.0,1995.0,1996.0,1997.0,1998.0,1999.0,2000.0,2001.0,2002.0,2003.0,2004.0,2005.0,2006.0,2007.0,2008.0,2009.0,2010.0,2011.0,2012.0,2013.0,2014.0,2015.0,2016.0,2017.0,2018.0,2019.0,2020.0,2021.0,2022.0,2023.0,2024.0],\"xaxis\":\"x\",\"y\":[138.0,120.0,136.0,116.0,166.0,182.0,216.0,166.0,180.0,222.0,130.0,170.0,144.0,206.0,232.0,200.0,128.0,158.0,144.0,168.0,158.0,132.0,130.0,122.0,120.0,74.0,84.0,110.0,66.0,76.0,68.0,70.0,72.0,48.0,70.0,64.0,68.0,72.0,58.0,62.0,64.0,70.0,78.0],\"yaxis\":\"y\",\"type\":\"scatter\"},{\"hovertemplate\":\"Age group (years)=20-24<br>Year=%{x}<br>Total Cases=%{y}<extra></extra>\",\"legendgroup\":\"20-24\",\"line\":{\"color\":\"#FFA15A\",\"dash\":\"solid\"},\"marker\":{\"symbol\":\"circle\"},\"mode\":\"lines+markers\",\"name\":\"20-24\",\"orientation\":\"v\",\"showlegend\":true,\"x\":[1982.0,1983.0,1984.0,1985.0,1986.0,1987.0,1988.0,1989.0,1990.0,1991.0,1992.0,1993.0,1994.0,1995.0,1996.0,1997.0,1998.0,1999.0,2000.0,2001.0,2002.0,2003.0,2004.0,2005.0,2006.0,2007.0,2008.0,2009.0,2010.0,2011.0,2012.0,2013.0,2014.0,2015.0,2016.0,2017.0,2018.0,2019.0,2020.0,2021.0,2022.0,2023.0,2024.0],\"xaxis\":\"x\",\"y\":[286.0,300.0,278.0,320.0,318.0,364.0,392.0,348.0,334.0,318.0,378.0,314.0,398.0,412.0,348.0,414.0,306.0,376.0,328.0,274.0,342.0,306.0,344.0,274.0,282.0,280.0,280.0,250.0,182.0,208.0,234.0,212.0,220.0,204.0,198.0,184.0,228.0,238.0,168.0,204.0,206.0,218.0,224.0],\"yaxis\":\"y\",\"type\":\"scatter\"},{\"hovertemplate\":\"Age group (years)=25-29<br>Year=%{x}<br>Total Cases=%{y}<extra></extra>\",\"legendgroup\":\"25-29\",\"line\":{\"color\":\"#19d3f3\",\"dash\":\"solid\"},\"marker\":{\"symbol\":\"circle\"},\"mode\":\"lines+markers\",\"name\":\"25-29\",\"orientation\":\"v\",\"showlegend\":true,\"x\":[1982.0,1983.0,1984.0,1985.0,1986.0,1987.0,1988.0,1989.0,1990.0,1991.0,1992.0,1993.0,1994.0,1995.0,1996.0,1997.0,1998.0,1999.0,2000.0,2001.0,2002.0,2003.0,2004.0,2005.0,2006.0,2007.0,2008.0,2009.0,2010.0,2011.0,2012.0,2013.0,2014.0,2015.0,2016.0,2017.0,2018.0,2019.0,2020.0,2021.0,2022.0,2023.0,2024.0],\"xaxis\":\"x\",\"y\":[422.0,476.0,444.0,530.0,456.0,664.0,686.0,520.0,510.0,528.0,522.0,506.0,550.0,626.0,638.0,658.0,544.0,544.0,562.0,560.0,522.0,470.0,510.0,586.0,508.0,414.0,422.0,456.0,500.0,430.0,468.0,464.0,412.0,458.0,490.0,418.0,422.0,412.0,410.0,374.0,360.0,358.0,350.0],\"yaxis\":\"y\",\"type\":\"scatter\"},{\"hovertemplate\":\"Age group (years)=30-34<br>Year=%{x}<br>Total Cases=%{y}<extra></extra>\",\"legendgroup\":\"30-34\",\"line\":{\"color\":\"#FF6692\",\"dash\":\"solid\"},\"marker\":{\"symbol\":\"circle\"},\"mode\":\"lines+markers\",\"name\":\"30-34\",\"orientation\":\"v\",\"showlegend\":true,\"x\":[1982.0,1983.0,1984.0,1985.0,1986.0,1987.0,1988.0,1989.0,1990.0,1991.0,1992.0,1993.0,1994.0,1995.0,1996.0,1997.0,1998.0,1999.0,2000.0,2001.0,2002.0,2003.0,2004.0,2005.0,2006.0,2007.0,2008.0,2009.0,2010.0,2011.0,2012.0,2013.0,2014.0,2015.0,2016.0,2017.0,2018.0,2019.0,2020.0,2021.0,2022.0,2023.0,2024.0],\"xaxis\":\"x\",\"y\":[580.0,624.0,602.0,680.0,690.0,812.0,828.0,704.0,668.0,730.0,724.0,724.0,742.0,888.0,782.0,834.0,804.0,764.0,772.0,770.0,796.0,764.0,834.0,826.0,770.0,682.0,666.0,658.0,656.0,566.0,672.0,654.0,648.0,674.0,752.0,776.0,722.0,764.0,609.0,760.0,766.0,790.0,802.0],\"yaxis\":\"y\",\"type\":\"scatter\"},{\"hovertemplate\":\"Age group (years)=35-39<br>Year=%{x}<br>Total Cases=%{y}<extra></extra>\",\"legendgroup\":\"35-39\",\"line\":{\"color\":\"#B6E880\",\"dash\":\"solid\"},\"marker\":{\"symbol\":\"circle\"},\"mode\":\"lines+markers\",\"name\":\"35-39\",\"orientation\":\"v\",\"showlegend\":true,\"x\":[1982.0,1983.0,1984.0,1985.0,1986.0,1987.0,1988.0,1989.0,1990.0,1991.0,1992.0,1993.0,1994.0,1995.0,1996.0,1997.0,1998.0,1999.0,2000.0,2001.0,2002.0,2003.0,2004.0,2005.0,2006.0,2007.0,2008.0,2009.0,2010.0,2011.0,2012.0,2013.0,2014.0,2015.0,2016.0,2017.0,2018.0,2019.0,2020.0,2021.0,2022.0,2023.0,2024.0],\"xaxis\":\"x\",\"y\":[570.0,654.0,658.0,822.0,860.0,974.0,976.0,904.0,874.0,890.0,940.0,932.0,898.0,986.0,1028.0,1056.0,994.0,1050.0,1060.0,1040.0,970.0,1004.0,898.0,982.0,956.0,974.0,1086.0,1038.0,928.0,944.0,906.0,944.0,872.0,850.0,1002.0,942.0,1000.0,988.0,862.0,1056.0,1068.0,1088.0,1100.0],\"yaxis\":\"y\",\"type\":\"scatter\"},{\"hovertemplate\":\"Age group (years)=40-44<br>Year=%{x}<br>Total Cases=%{y}<extra></extra>\",\"legendgroup\":\"40-44\",\"line\":{\"color\":\"#FF97FF\",\"dash\":\"solid\"},\"marker\":{\"symbol\":\"circle\"},\"mode\":\"lines+markers\",\"name\":\"40-44\",\"orientation\":\"v\",\"showlegend\":true,\"x\":[1982.0,1983.0,1984.0,1985.0,1986.0,1987.0,1988.0,1989.0,1990.0,1991.0,1992.0,1993.0,1994.0,1995.0,1996.0,1997.0,1998.0,1999.0,2000.0,2001.0,2002.0,2003.0,2004.0,2005.0,2006.0,2007.0,2008.0,2009.0,2010.0,2011.0,2012.0,2013.0,2014.0,2015.0,2016.0,2017.0,2018.0,2019.0,2020.0,2021.0,2022.0,2023.0,2024.0],\"xaxis\":\"x\",\"y\":[598.0,598.0,646.0,758.0,790.0,1004.0,1058.0,1042.0,1044.0,1028.0,1072.0,1086.0,1138.0,1186.0,1200.0,1262.0,1134.0,1192.0,1282.0,1320.0,1432.0,1310.0,1198.0,1394.0,1248.0,1168.0,1274.0,1244.0,1250.0,1276.0,1328.0,1356.0,1430.0,1384.0,1404.0,1360.0,1342.0,1290.0,1245.0,1414.0,1454.0,1528.0,1598.0],\"yaxis\":\"y\",\"type\":\"scatter\"},{\"hovertemplate\":\"Age group (years)=45-49<br>Year=%{x}<br>Total Cases=%{y}<extra></extra>\",\"legendgroup\":\"45-49\",\"line\":{\"color\":\"#FECB52\",\"dash\":\"solid\"},\"marker\":{\"symbol\":\"circle\"},\"mode\":\"lines+markers\",\"name\":\"45-49\",\"orientation\":\"v\",\"showlegend\":true,\"x\":[1982.0,1983.0,1984.0,1985.0,1986.0,1987.0,1988.0,1989.0,1990.0,1991.0,1992.0,1993.0,1994.0,1995.0,1996.0,1997.0,1998.0,1999.0,2000.0,2001.0,2002.0,2003.0,2004.0,2005.0,2006.0,2007.0,2008.0,2009.0,2010.0,2011.0,2012.0,2013.0,2014.0,2015.0,2016.0,2017.0,2018.0,2019.0,2020.0,2021.0,2022.0,2023.0,2024.0],\"xaxis\":\"x\",\"y\":[582.0,620.0,646.0,664.0,752.0,832.0,1020.0,954.0,972.0,976.0,1128.0,1162.0,1304.0,1324.0,1416.0,1544.0,1436.0,1574.0,1518.0,1538.0,1684.0,1570.0,1602.0,1780.0,1592.0,1686.0,1660.0,1628.0,1554.0,1586.0,1582.0,1640.0,1714.0,1768.0,1898.0,1914.0,1956.0,1922.0,1712.0,2028.0,2030.0,2050.0,2098.0],\"yaxis\":\"y\",\"type\":\"scatter\"},{\"hovertemplate\":\"Age group (years)=50-54<br>Year=%{x}<br>Total Cases=%{y}<extra></extra>\",\"legendgroup\":\"50-54\",\"line\":{\"color\":\"#636efa\",\"dash\":\"solid\"},\"marker\":{\"symbol\":\"circle\"},\"mode\":\"lines+markers\",\"name\":\"50-54\",\"orientation\":\"v\",\"showlegend\":true,\"x\":[1982.0,1983.0,1984.0,1985.0,1986.0,1987.0,1988.0,1989.0,1990.0,1991.0,1992.0,1993.0,1994.0,1995.0,1996.0,1997.0,1998.0,1999.0,2000.0,2001.0,2002.0,2003.0,2004.0,2005.0,2006.0,2007.0,2008.0,2009.0,2010.0,2011.0,2012.0,2013.0,2014.0,2015.0,2016.0,2017.0,2018.0,2019.0,2020.0,2021.0,2022.0,2023.0,2024.0],\"xaxis\":\"x\",\"y\":[624.0,642.0,702.0,766.0,764.0,844.0,938.0,848.0,958.0,956.0,1040.0,1136.0,1248.0,1258.0,1440.0,1704.0,1646.0,1646.0,1684.0,1906.0,1990.0,1946.0,1874.0,1966.0,1836.0,1922.0,2088.0,1984.0,2026.0,1918.0,2166.0,2214.0,2342.0,2270.0,2248.0,2330.0,2340.0,2334.0,2158.0,2546.0,2640.0,2716.0,2772.0],\"yaxis\":\"y\",\"type\":\"scatter\"},{\"hovertemplate\":\"Age group (years)=55-59<br>Year=%{x}<br>Total Cases=%{y}<extra></extra>\",\"legendgroup\":\"55-59\",\"line\":{\"color\":\"#EF553B\",\"dash\":\"solid\"},\"marker\":{\"symbol\":\"circle\"},\"mode\":\"lines+markers\",\"name\":\"55-59\",\"orientation\":\"v\",\"showlegend\":true,\"x\":[1982.0,1983.0,1984.0,1985.0,1986.0,1987.0,1988.0,1989.0,1990.0,1991.0,1992.0,1993.0,1994.0,1995.0,1996.0,1997.0,1998.0,1999.0,2000.0,2001.0,2002.0,2003.0,2004.0,2005.0,2006.0,2007.0,2008.0,2009.0,2010.0,2011.0,2012.0,2013.0,2014.0,2015.0,2016.0,2017.0,2018.0,2019.0,2020.0,2021.0,2022.0,2023.0,2024.0],\"xaxis\":\"x\",\"y\":[730.0,750.0,838.0,868.0,898.0,1054.0,1078.0,934.0,942.0,994.0,1072.0,1024.0,1140.0,1256.0,1258.0,1442.0,1470.0,1498.0,1600.0,1778.0,2096.0,2268.0,2250.0,2400.0,2334.0,2346.0,2418.0,2386.0,2350.0,2380.0,2486.0,2502.0,2454.0,2636.0,2902.0,3136.0,3014.0,2978.0,2796.0,3162.0,3168.0,3182.0,3256.0],\"yaxis\":\"y\",\"type\":\"scatter\"},{\"hovertemplate\":\"Age group (years)=60-64<br>Year=%{x}<br>Total Cases=%{y}<extra></extra>\",\"legendgroup\":\"60-64\",\"line\":{\"color\":\"#00cc96\",\"dash\":\"solid\"},\"marker\":{\"symbol\":\"circle\"},\"mode\":\"lines+markers\",\"name\":\"60-64\",\"orientation\":\"v\",\"showlegend\":true,\"x\":[1982.0,1983.0,1984.0,1985.0,1986.0,1987.0,1988.0,1989.0,1990.0,1991.0,1992.0,1993.0,1994.0,1995.0,1996.0,1997.0,1998.0,1999.0,2000.0,2001.0,2002.0,2003.0,2004.0,2005.0,2006.0,2007.0,2008.0,2009.0,2010.0,2011.0,2012.0,2013.0,2014.0,2015.0,2016.0,2017.0,2018.0,2019.0,2020.0,2021.0,2022.0,2023.0,2024.0],\"xaxis\":\"x\",\"y\":[670.0,756.0,818.0,916.0,968.0,1156.0,1172.0,1266.0,1194.0,1164.0,1404.0,1354.0,1274.0,1348.0,1364.0,1402.0,1448.0,1466.0,1540.0,1644.0,2072.0,1810.0,2088.0,2268.0,2162.0,2434.0,2662.0,2732.0,2894.0,3130.0,3002.0,3078.0,3058.0,3272.0,3412.0,3372.0,3524.0,3686.0,3304.0,3894.0,3994.0,4100.0,4196.0],\"yaxis\":\"y\",\"type\":\"scatter\"},{\"hovertemplate\":\"Age group (years)=65-69<br>Year=%{x}<br>Total Cases=%{y}<extra></extra>\",\"legendgroup\":\"65-69\",\"line\":{\"color\":\"#ab63fa\",\"dash\":\"solid\"},\"marker\":{\"symbol\":\"circle\"},\"mode\":\"lines+markers\",\"name\":\"65-69\",\"orientation\":\"v\",\"showlegend\":true,\"x\":[1982.0,1983.0,1984.0,1985.0,1986.0,1987.0,1988.0,1989.0,1990.0,1991.0,1992.0,1993.0,1994.0,1995.0,1996.0,1997.0,1998.0,1999.0,2000.0,2001.0,2002.0,2003.0,2004.0,2005.0,2006.0,2007.0,2008.0,2009.0,2010.0,2011.0,2012.0,2013.0,2014.0,2015.0,2016.0,2017.0,2018.0,2019.0,2020.0,2021.0,2022.0,2023.0,2024.0],\"xaxis\":\"x\",\"y\":[680.0,750.0,756.0,852.0,918.0,1042.0,1200.0,1234.0,1182.0,1200.0,1468.0,1514.0,1474.0,1566.0,1568.0,1700.0,1558.0,1568.0,1588.0,1806.0,1838.0,1862.0,2082.0,2306.0,2250.0,2228.0,2480.0,2460.0,2788.0,2934.0,3200.0,3512.0,3752.0,3892.0,4186.0,4144.0,3988.0,4222.0,4034.0,4582.0,4718.0,4874.0,5076.0],\"yaxis\":\"y\",\"type\":\"scatter\"},{\"hovertemplate\":\"Age group (years)=70-74<br>Year=%{x}<br>Total Cases=%{y}<extra></extra>\",\"legendgroup\":\"70-74\",\"line\":{\"color\":\"#FFA15A\",\"dash\":\"solid\"},\"marker\":{\"symbol\":\"circle\"},\"mode\":\"lines+markers\",\"name\":\"70-74\",\"orientation\":\"v\",\"showlegend\":true,\"x\":[1982.0,1983.0,1984.0,1985.0,1986.0,1987.0,1988.0,1989.0,1990.0,1991.0,1992.0,1993.0,1994.0,1995.0,1996.0,1997.0,1998.0,1999.0,2000.0,2001.0,2002.0,2003.0,2004.0,2005.0,2006.0,2007.0,2008.0,2009.0,2010.0,2011.0,2012.0,2013.0,2014.0,2015.0,2016.0,2017.0,2018.0,2019.0,2020.0,2021.0,2022.0,2023.0,2024.0],\"xaxis\":\"x\",\"y\":[514.0,576.0,658.0,740.0,774.0,916.0,988.0,956.0,1118.0,1064.0,1172.0,1408.0,1366.0,1482.0,1628.0,1824.0,1558.0,1762.0,1896.0,2012.0,2274.0,2064.0,1964.0,2176.0,2242.0,2206.0,2258.0,2590.0,2544.0,2776.0,2848.0,3054.0,3132.0,3554.0,3754.0,4382.0,4265.0,4722.0,4618.0,5352.0,5448.0,5602.0,5804.0],\"yaxis\":\"y\",\"type\":\"scatter\"},{\"hovertemplate\":\"Age group (years)=75-79<br>Year=%{x}<br>Total Cases=%{y}<extra></extra>\",\"legendgroup\":\"75-79\",\"line\":{\"color\":\"#19d3f3\",\"dash\":\"solid\"},\"marker\":{\"symbol\":\"circle\"},\"mode\":\"lines+markers\",\"name\":\"75-79\",\"orientation\":\"v\",\"showlegend\":true,\"x\":[1982.0,1983.0,1984.0,1985.0,1986.0,1987.0,1988.0,1989.0,1990.0,1991.0,1992.0,1993.0,1994.0,1995.0,1996.0,1997.0,1998.0,1999.0,2000.0,2001.0,2002.0,2003.0,2004.0,2005.0,2006.0,2007.0,2008.0,2009.0,2010.0,2011.0,2012.0,2013.0,2014.0,2015.0,2016.0,2017.0,2018.0,2019.0,2020.0,2021.0,2022.0,2023.0,2024.0],\"xaxis\":\"x\",\"y\":[344.0,382.0,440.0,476.0,528.0,644.0,750.0,778.0,878.0,924.0,1058.0,1052.0,1032.0,1110.0,1260.0,1392.0,1452.0,1496.0,1656.0,1932.0,1942.0,2082.0,2114.0,2380.0,2424.0,2206.0,2250.0,2436.0,2410.0,2198.0,2520.0,2732.0,2882.0,3172.0,3202.0,3396.0,3524.0,3924.0,3847.0,4532.0,5012.0,5462.0,5832.0],\"yaxis\":\"y\",\"type\":\"scatter\"},{\"hovertemplate\":\"Age group (years)=80-84<br>Year=%{x}<br>Total Cases=%{y}<extra></extra>\",\"legendgroup\":\"80-84\",\"line\":{\"color\":\"#FF6692\",\"dash\":\"solid\"},\"marker\":{\"symbol\":\"circle\"},\"mode\":\"lines+markers\",\"name\":\"80-84\",\"orientation\":\"v\",\"showlegend\":true,\"x\":[1982.0,1983.0,1984.0,1985.0,1986.0,1987.0,1988.0,1989.0,1990.0,1991.0,1992.0,1993.0,1994.0,1995.0,1996.0,1997.0,1998.0,1999.0,2000.0,2001.0,2002.0,2003.0,2004.0,2005.0,2006.0,2007.0,2008.0,2009.0,2010.0,2011.0,2012.0,2013.0,2014.0,2015.0,2016.0,2017.0,2018.0,2019.0,2020.0,2021.0,2022.0,2023.0,2024.0],\"xaxis\":\"x\",\"y\":[194.0,186.0,268.0,278.0,316.0,382.0,400.0,472.0,468.0,572.0,610.0,672.0,708.0,760.0,852.0,840.0,848.0,996.0,1002.0,1226.0,1462.0,1490.0,1686.0,1874.0,1778.0,1952.0,2148.0,2096.0,2234.0,2174.0,2122.0,2474.0,2466.0,2364.0,2514.0,2740.0,2704.0,3012.0,2966.0,3320.0,3514.0,3678.0,3922.0],\"yaxis\":\"y\",\"type\":\"scatter\"},{\"hovertemplate\":\"Age group (years)=85-89<br>Year=%{x}<br>Total Cases=%{y}<extra></extra>\",\"legendgroup\":\"85-89\",\"line\":{\"color\":\"#B6E880\",\"dash\":\"solid\"},\"marker\":{\"symbol\":\"circle\"},\"mode\":\"lines+markers\",\"name\":\"85-89\",\"orientation\":\"v\",\"showlegend\":true,\"x\":[1982.0,1983.0,1984.0,1985.0,1986.0,1987.0,1988.0,1989.0,1990.0,1991.0,1992.0,1993.0,1994.0,1995.0,1996.0,1997.0,1998.0,1999.0,2000.0,2001.0,2002.0,2003.0,2004.0,2005.0,2006.0,2007.0,2008.0,2009.0,2010.0,2011.0,2012.0,2013.0,2014.0,2015.0,2016.0,2017.0,2018.0,2019.0,2020.0,2021.0,2022.0,2023.0,2024.0],\"xaxis\":\"x\",\"y\":[74.0,90.0,108.0,132.0,116.0,160.0,238.0,178.0,226.0,236.0,252.0,294.0,338.0,390.0,434.0,426.0,486.0,466.0,536.0,704.0,832.0,846.0,866.0,966.0,1024.0,1098.0,1224.0,1366.0,1370.0,1392.0,1584.0,1620.0,1718.0,1812.0,1948.0,1928.0,1960.0,2018.0,1916.0,2218.0,2344.0,2472.0,2634.0],\"yaxis\":\"y\",\"type\":\"scatter\"},{\"hovertemplate\":\"Age group (years)=90+<br>Year=%{x}<br>Total Cases=%{y}<extra></extra>\",\"legendgroup\":\"90+\",\"line\":{\"color\":\"#FF97FF\",\"dash\":\"solid\"},\"marker\":{\"symbol\":\"circle\"},\"mode\":\"lines+markers\",\"name\":\"90+\",\"orientation\":\"v\",\"showlegend\":true,\"x\":[1982.0,1983.0,1984.0,1985.0,1986.0,1987.0,1988.0,1989.0,1990.0,1991.0,1992.0,1993.0,1994.0,1995.0,1996.0,1997.0,1998.0,1999.0,2000.0,2001.0,2002.0,2003.0,2004.0,2005.0,2006.0,2007.0,2008.0,2009.0,2010.0,2011.0,2012.0,2013.0,2014.0,2015.0,2016.0,2017.0,2018.0,2019.0,2020.0,2021.0,2022.0,2023.0,2024.0],\"xaxis\":\"x\",\"y\":[38.0,44.0,60.0,62.0,72.0,54.0,68.0,86.0,92.0,76.0,120.0,138.0,104.0,114.0,158.0,144.0,150.0,206.0,240.0,274.0,306.0,318.0,402.0,470.0,532.0,498.0,540.0,532.0,626.0,644.0,796.0,874.0,910.0,932.0,1016.0,1086.0,1168.0,1152.0,1326.0,1360.0,1400.0,1434.0,1490.0],\"yaxis\":\"y\",\"type\":\"scatter\"}],                        {\"template\":{\"data\":{\"histogram2dcontour\":[{\"type\":\"histogram2dcontour\",\"colorbar\":{\"outlinewidth\":0,\"ticks\":\"\"},\"colorscale\":[[0.0,\"#0d0887\"],[0.1111111111111111,\"#46039f\"],[0.2222222222222222,\"#7201a8\"],[0.3333333333333333,\"#9c179e\"],[0.4444444444444444,\"#bd3786\"],[0.5555555555555556,\"#d8576b\"],[0.6666666666666666,\"#ed7953\"],[0.7777777777777778,\"#fb9f3a\"],[0.8888888888888888,\"#fdca26\"],[1.0,\"#f0f921\"]]}],\"choropleth\":[{\"type\":\"choropleth\",\"colorbar\":{\"outlinewidth\":0,\"ticks\":\"\"}}],\"histogram2d\":[{\"type\":\"histogram2d\",\"colorbar\":{\"outlinewidth\":0,\"ticks\":\"\"},\"colorscale\":[[0.0,\"#0d0887\"],[0.1111111111111111,\"#46039f\"],[0.2222222222222222,\"#7201a8\"],[0.3333333333333333,\"#9c179e\"],[0.4444444444444444,\"#bd3786\"],[0.5555555555555556,\"#d8576b\"],[0.6666666666666666,\"#ed7953\"],[0.7777777777777778,\"#fb9f3a\"],[0.8888888888888888,\"#fdca26\"],[1.0,\"#f0f921\"]]}],\"heatmap\":[{\"type\":\"heatmap\",\"colorbar\":{\"outlinewidth\":0,\"ticks\":\"\"},\"colorscale\":[[0.0,\"#0d0887\"],[0.1111111111111111,\"#46039f\"],[0.2222222222222222,\"#7201a8\"],[0.3333333333333333,\"#9c179e\"],[0.4444444444444444,\"#bd3786\"],[0.5555555555555556,\"#d8576b\"],[0.6666666666666666,\"#ed7953\"],[0.7777777777777778,\"#fb9f3a\"],[0.8888888888888888,\"#fdca26\"],[1.0,\"#f0f921\"]]}],\"heatmapgl\":[{\"type\":\"heatmapgl\",\"colorbar\":{\"outlinewidth\":0,\"ticks\":\"\"},\"colorscale\":[[0.0,\"#0d0887\"],[0.1111111111111111,\"#46039f\"],[0.2222222222222222,\"#7201a8\"],[0.3333333333333333,\"#9c179e\"],[0.4444444444444444,\"#bd3786\"],[0.5555555555555556,\"#d8576b\"],[0.6666666666666666,\"#ed7953\"],[0.7777777777777778,\"#fb9f3a\"],[0.8888888888888888,\"#fdca26\"],[1.0,\"#f0f921\"]]}],\"contourcarpet\":[{\"type\":\"contourcarpet\",\"colorbar\":{\"outlinewidth\":0,\"ticks\":\"\"}}],\"contour\":[{\"type\":\"contour\",\"colorbar\":{\"outlinewidth\":0,\"ticks\":\"\"},\"colorscale\":[[0.0,\"#0d0887\"],[0.1111111111111111,\"#46039f\"],[0.2222222222222222,\"#7201a8\"],[0.3333333333333333,\"#9c179e\"],[0.4444444444444444,\"#bd3786\"],[0.5555555555555556,\"#d8576b\"],[0.6666666666666666,\"#ed7953\"],[0.7777777777777778,\"#fb9f3a\"],[0.8888888888888888,\"#fdca26\"],[1.0,\"#f0f921\"]]}],\"surface\":[{\"type\":\"surface\",\"colorbar\":{\"outlinewidth\":0,\"ticks\":\"\"},\"colorscale\":[[0.0,\"#0d0887\"],[0.1111111111111111,\"#46039f\"],[0.2222222222222222,\"#7201a8\"],[0.3333333333333333,\"#9c179e\"],[0.4444444444444444,\"#bd3786\"],[0.5555555555555556,\"#d8576b\"],[0.6666666666666666,\"#ed7953\"],[0.7777777777777778,\"#fb9f3a\"],[0.8888888888888888,\"#fdca26\"],[1.0,\"#f0f921\"]]}],\"mesh3d\":[{\"type\":\"mesh3d\",\"colorbar\":{\"outlinewidth\":0,\"ticks\":\"\"}}],\"scatter\":[{\"fillpattern\":{\"fillmode\":\"overlay\",\"size\":10,\"solidity\":0.2},\"type\":\"scatter\"}],\"parcoords\":[{\"type\":\"parcoords\",\"line\":{\"colorbar\":{\"outlinewidth\":0,\"ticks\":\"\"}}}],\"scatterpolargl\":[{\"type\":\"scatterpolargl\",\"marker\":{\"colorbar\":{\"outlinewidth\":0,\"ticks\":\"\"}}}],\"bar\":[{\"error_x\":{\"color\":\"#2a3f5f\"},\"error_y\":{\"color\":\"#2a3f5f\"},\"marker\":{\"line\":{\"color\":\"#E5ECF6\",\"width\":0.5},\"pattern\":{\"fillmode\":\"overlay\",\"size\":10,\"solidity\":0.2}},\"type\":\"bar\"}],\"scattergeo\":[{\"type\":\"scattergeo\",\"marker\":{\"colorbar\":{\"outlinewidth\":0,\"ticks\":\"\"}}}],\"scatterpolar\":[{\"type\":\"scatterpolar\",\"marker\":{\"colorbar\":{\"outlinewidth\":0,\"ticks\":\"\"}}}],\"histogram\":[{\"marker\":{\"pattern\":{\"fillmode\":\"overlay\",\"size\":10,\"solidity\":0.2}},\"type\":\"histogram\"}],\"scattergl\":[{\"type\":\"scattergl\",\"marker\":{\"colorbar\":{\"outlinewidth\":0,\"ticks\":\"\"}}}],\"scatter3d\":[{\"type\":\"scatter3d\",\"line\":{\"colorbar\":{\"outlinewidth\":0,\"ticks\":\"\"}},\"marker\":{\"colorbar\":{\"outlinewidth\":0,\"ticks\":\"\"}}}],\"scattermapbox\":[{\"type\":\"scattermapbox\",\"marker\":{\"colorbar\":{\"outlinewidth\":0,\"ticks\":\"\"}}}],\"scatterternary\":[{\"type\":\"scatterternary\",\"marker\":{\"colorbar\":{\"outlinewidth\":0,\"ticks\":\"\"}}}],\"scattercarpet\":[{\"type\":\"scattercarpet\",\"marker\":{\"colorbar\":{\"outlinewidth\":0,\"ticks\":\"\"}}}],\"carpet\":[{\"aaxis\":{\"endlinecolor\":\"#2a3f5f\",\"gridcolor\":\"white\",\"linecolor\":\"white\",\"minorgridcolor\":\"white\",\"startlinecolor\":\"#2a3f5f\"},\"baxis\":{\"endlinecolor\":\"#2a3f5f\",\"gridcolor\":\"white\",\"linecolor\":\"white\",\"minorgridcolor\":\"white\",\"startlinecolor\":\"#2a3f5f\"},\"type\":\"carpet\"}],\"table\":[{\"cells\":{\"fill\":{\"color\":\"#EBF0F8\"},\"line\":{\"color\":\"white\"}},\"header\":{\"fill\":{\"color\":\"#C8D4E3\"},\"line\":{\"color\":\"white\"}},\"type\":\"table\"}],\"barpolar\":[{\"marker\":{\"line\":{\"color\":\"#E5ECF6\",\"width\":0.5},\"pattern\":{\"fillmode\":\"overlay\",\"size\":10,\"solidity\":0.2}},\"type\":\"barpolar\"}],\"pie\":[{\"automargin\":true,\"type\":\"pie\"}]},\"layout\":{\"autotypenumbers\":\"strict\",\"colorway\":[\"#636efa\",\"#EF553B\",\"#00cc96\",\"#ab63fa\",\"#FFA15A\",\"#19d3f3\",\"#FF6692\",\"#B6E880\",\"#FF97FF\",\"#FECB52\"],\"font\":{\"color\":\"#2a3f5f\"},\"hovermode\":\"closest\",\"hoverlabel\":{\"align\":\"left\"},\"paper_bgcolor\":\"white\",\"plot_bgcolor\":\"#E5ECF6\",\"polar\":{\"bgcolor\":\"#E5ECF6\",\"angularaxis\":{\"gridcolor\":\"white\",\"linecolor\":\"white\",\"ticks\":\"\"},\"radialaxis\":{\"gridcolor\":\"white\",\"linecolor\":\"white\",\"ticks\":\"\"}},\"ternary\":{\"bgcolor\":\"#E5ECF6\",\"aaxis\":{\"gridcolor\":\"white\",\"linecolor\":\"white\",\"ticks\":\"\"},\"baxis\":{\"gridcolor\":\"white\",\"linecolor\":\"white\",\"ticks\":\"\"},\"caxis\":{\"gridcolor\":\"white\",\"linecolor\":\"white\",\"ticks\":\"\"}},\"coloraxis\":{\"colorbar\":{\"outlinewidth\":0,\"ticks\":\"\"}},\"colorscale\":{\"sequential\":[[0.0,\"#0d0887\"],[0.1111111111111111,\"#46039f\"],[0.2222222222222222,\"#7201a8\"],[0.3333333333333333,\"#9c179e\"],[0.4444444444444444,\"#bd3786\"],[0.5555555555555556,\"#d8576b\"],[0.6666666666666666,\"#ed7953\"],[0.7777777777777778,\"#fb9f3a\"],[0.8888888888888888,\"#fdca26\"],[1.0,\"#f0f921\"]],\"sequentialminus\":[[0.0,\"#0d0887\"],[0.1111111111111111,\"#46039f\"],[0.2222222222222222,\"#7201a8\"],[0.3333333333333333,\"#9c179e\"],[0.4444444444444444,\"#bd3786\"],[0.5555555555555556,\"#d8576b\"],[0.6666666666666666,\"#ed7953\"],[0.7777777777777778,\"#fb9f3a\"],[0.8888888888888888,\"#fdca26\"],[1.0,\"#f0f921\"]],\"diverging\":[[0,\"#8e0152\"],[0.1,\"#c51b7d\"],[0.2,\"#de77ae\"],[0.3,\"#f1b6da\"],[0.4,\"#fde0ef\"],[0.5,\"#f7f7f7\"],[0.6,\"#e6f5d0\"],[0.7,\"#b8e186\"],[0.8,\"#7fbc41\"],[0.9,\"#4d9221\"],[1,\"#276419\"]]},\"xaxis\":{\"gridcolor\":\"white\",\"linecolor\":\"white\",\"ticks\":\"\",\"title\":{\"standoff\":15},\"zerolinecolor\":\"white\",\"automargin\":true,\"zerolinewidth\":2},\"yaxis\":{\"gridcolor\":\"white\",\"linecolor\":\"white\",\"ticks\":\"\",\"title\":{\"standoff\":15},\"zerolinecolor\":\"white\",\"automargin\":true,\"zerolinewidth\":2},\"scene\":{\"xaxis\":{\"backgroundcolor\":\"#E5ECF6\",\"gridcolor\":\"white\",\"linecolor\":\"white\",\"showbackground\":true,\"ticks\":\"\",\"zerolinecolor\":\"white\",\"gridwidth\":2},\"yaxis\":{\"backgroundcolor\":\"#E5ECF6\",\"gridcolor\":\"white\",\"linecolor\":\"white\",\"showbackground\":true,\"ticks\":\"\",\"zerolinecolor\":\"white\",\"gridwidth\":2},\"zaxis\":{\"backgroundcolor\":\"#E5ECF6\",\"gridcolor\":\"white\",\"linecolor\":\"white\",\"showbackground\":true,\"ticks\":\"\",\"zerolinecolor\":\"white\",\"gridwidth\":2}},\"shapedefaults\":{\"line\":{\"color\":\"#2a3f5f\"}},\"annotationdefaults\":{\"arrowcolor\":\"#2a3f5f\",\"arrowhead\":0,\"arrowwidth\":1},\"geo\":{\"bgcolor\":\"white\",\"landcolor\":\"#E5ECF6\",\"subunitcolor\":\"white\",\"showland\":true,\"showlakes\":true,\"lakecolor\":\"white\"},\"title\":{\"x\":0.05},\"mapbox\":{\"style\":\"light\"}}},\"xaxis\":{\"anchor\":\"y\",\"domain\":[0.0,1.0],\"title\":{\"text\":\"Year\"},\"rangeslider\":{\"visible\":true},\"tickmode\":\"linear\"},\"yaxis\":{\"anchor\":\"x\",\"domain\":[0.0,1.0],\"title\":{\"text\":\"Total Cases\"},\"tickfont\":{\"size\":14},\"gridcolor\":\"lightgrey\"},\"legend\":{\"title\":{\"text\":\"Age group (years)\"},\"tracegroupgap\":0},\"title\":{\"text\":\"Total Skin Cancer Incidences Over Years by Age Group\",\"x\":0.24,\"y\":0.87},\"plot_bgcolor\":\"white\",\"hovermode\":\"closest\",\"width\":1000,\"height\":600,\"updatemenus\":[{\"buttons\":[{\"args\":[{\"xaxis.range\":[1982.0,2024.0],\"xaxis.rangeselector\":{\"visible\":false}}],\"label\":\"Reset Year Filters\",\"method\":\"relayout\"}],\"font\":{\"size\":12},\"showactive\":true,\"type\":\"buttons\",\"x\":0.5,\"xanchor\":\"center\",\"y\":-0.6,\"yanchor\":\"top\"}]},                        {\"responsive\": true}                    ).then(function(){\n",
       "                            \n",
       "var gd = document.getElementById('655510ea-f35b-4f55-97ac-c6600255121a');\n",
       "var x = new MutationObserver(function (mutations, observer) {{\n",
       "        var display = window.getComputedStyle(gd).display;\n",
       "        if (!display || display === 'none') {{\n",
       "            console.log([gd, 'removed!']);\n",
       "            Plotly.purge(gd);\n",
       "            observer.disconnect();\n",
       "        }}\n",
       "}});\n",
       "\n",
       "// Listen for the removal of the full notebook cells\n",
       "var notebookContainer = gd.closest('#notebook-container');\n",
       "if (notebookContainer) {{\n",
       "    x.observe(notebookContainer, {childList: true});\n",
       "}}\n",
       "\n",
       "// Listen for the clearing of the current output cell\n",
       "var outputEl = gd.closest('.output');\n",
       "if (outputEl) {{\n",
       "    x.observe(outputEl, {childList: true});\n",
       "}}\n",
       "\n",
       "                        })                };                });            </script>        </div>"
      ]
     },
     "metadata": {},
     "output_type": "display_data"
    }
   ],
   "source": [
    "import plotly.express as px\n",
    "import pandas as pd\n",
    "\n",
    "def plot_cancer_cases_by_age_interactive(df_incidence_and_mortality_1, except_value, is_filtered, group_value_list, category):\n",
    "    \"\"\"\n",
    "    Plots an interactive line chart showing total skin cancer incidences over the years for each Age group.\n",
    "\n",
    "    Parameters:\n",
    "    df_incidence_and_mortality_1 (pd.DataFrame): DataFrame containing 'Year', 'new_count', and 'Age group' columns.\n",
    "    except_value (str): Value to exclude in filtering.\n",
    "    is_filtered (bool): Flag indicating if data should be filtered.\n",
    "    group_value_list (list): List of column names to group by.\n",
    "    category (str): Category label for the plot title.\n",
    "\n",
    "    Returns:\n",
    "    None\n",
    "    \"\"\"\n",
    "    # Filter data if necessary\n",
    "    if is_filtered:\n",
    "        df_incidence_and_mortality_1 = df_incidence_and_mortality_1[~df_incidence_and_mortality_1[group_value_list[1]].isin([except_value])]\n",
    "    \n",
    "    # Aggregate data by summing 'new_count' for each Year and Age group\n",
    "    df_grouped = df_incidence_and_mortality_1.groupby(group_value_list, as_index=False)['new_count'].sum()\n",
    "\n",
    "    # Create an interactive plot using plotly.express\n",
    "    fig = px.line(df_grouped, x='Year', y='new_count', color=group_value_list[1],\n",
    "                  title=f'Total Skin Cancer {category} Over Years by Age Group',\n",
    "                  labels={'new_count': 'Total Cases', 'Year': 'Year'},\n",
    "                  markers=True)\n",
    "    \n",
    "    # Update layout to set background color to white, light grey grid for the y-axis, and bigger chart\n",
    "    fig.update_layout(\n",
    "        plot_bgcolor='white',  # Set background color to white\n",
    "        xaxis=dict(\n",
    "            tickmode='linear',\n",
    "            rangeslider=dict(visible=True),  # Enable the range slider for Year\n",
    "            title='Year',  # X-axis title\n",
    "        ),\n",
    "        yaxis=dict(\n",
    "            title='Total Cases',  # Y-axis title\n",
    "            gridcolor='lightgrey',  # Set a light grey grid color for the y-axis\n",
    "            tickfont=dict(size=14)  # Increase the font size of the y-axis labels\n",
    "        ),\n",
    "        hovermode='closest',  # Show closest data on hover\n",
    "        width=1000,  # Set chart width to be bigger\n",
    "        height=600,  # Set chart height to be bigger\n",
    "        title_x=0.24,  # Center title horizontally\n",
    "        title_y=0.87,  # Bring the title closer to the chart\n",
    "        updatemenus=[dict(\n",
    "            type='buttons',  # Use buttons instead of dropdown\n",
    "            x=0.5,  # Center the button horizontally\n",
    "            y=-0.6,  # Position the button below the chart\n",
    "            buttons=[dict(\n",
    "                label=\"Reset Year Filters\",\n",
    "                method=\"relayout\",\n",
    "                args=[{\n",
    "                    'xaxis.range': [df_grouped['Year'].min(), df_grouped['Year'].max()],\n",
    "                    'xaxis.rangeselector': {'visible': False}\n",
    "                }]\n",
    "            )],\n",
    "            showactive=True,\n",
    "            font=dict(size=12),  # Button text size\n",
    "            xanchor='center',  # Center the button\n",
    "            yanchor='top'\n",
    "        )]\n",
    "    )\n",
    "    \n",
    "    # Show the interactive plot\n",
    "    fig.show()\n",
    "\n",
    "# Example of how to call the function\n",
    "plot_cancer_cases_by_age_interactive(df_incidence_age_group, 'All ages combined', True, ['Year', 'Age group (years)'], 'Incidences')\n"
   ]
  },
  {
   "cell_type": "code",
   "execution_count": null,
   "metadata": {},
   "outputs": [],
   "source": [
    "# plot_cancer_cases_by_state(df_incidence_and_mortality_2, 'Australia', True, ['Year', 'State or Territory'], 'Mortality')"
   ]
  },
  {
   "cell_type": "code",
   "execution_count": null,
   "metadata": {},
   "outputs": [],
   "source": [
    "# plot_cancer_cases_by_state(df_mortality_age_group, 'All ages combined', True, ['Year', 'Age group (years)'], 'Mortality')"
   ]
  },
  {
   "cell_type": "markdown",
   "metadata": {},
   "source": [
    "# Process charts"
   ]
  },
  {
   "cell_type": "markdown",
   "metadata": {},
   "source": []
  }
 ],
 "metadata": {
  "kernelspec": {
   "display_name": "Python 3 (ipykernel)",
   "language": "python",
   "name": "python3"
  },
  "language_info": {
   "codemirror_mode": {
    "name": "ipython",
    "version": 3
   },
   "file_extension": ".py",
   "mimetype": "text/x-python",
   "name": "python",
   "nbconvert_exporter": "python",
   "pygments_lexer": "ipython3",
   "version": "3.11.5"
  }
 },
 "nbformat": 4,
 "nbformat_minor": 2
}
